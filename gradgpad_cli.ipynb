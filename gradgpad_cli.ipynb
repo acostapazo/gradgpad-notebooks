{
 "cells": [
  {
   "cell_type": "markdown",
   "metadata": {},
   "source": [
    "# The GRAD-GPAD framework 🗿 \n",
    "    \n",
    "    ➡️ Command Line Interface\n",
    "---\n",
    "\n",
    "\n",
    "## Table of Contents\n",
    "- Installation 💻\n",
    "- Getting Started 👩‍💻\n",
    "  * Reproducible Research\n",
    "  * Show Histogram\n"
   ]
  },
  {
   "cell_type": "markdown",
   "metadata": {},
   "source": [
    "### Installation 💻"
   ]
  },
  {
   "cell_type": "code",
   "execution_count": null,
   "metadata": {},
   "outputs": [],
   "source": [
    "pip install -U gradgpad"
   ]
  },
  {
   "cell_type": "markdown",
   "metadata": {},
   "source": [
    "---\n",
    "### Getting Started 👩‍💻\n",
    "\n",
    "The `grad-gpad` framework has available a Command Line Interface.\n",
    "Please, check use help parameter to obtain updated information about available commands"
   ]
  },
  {
   "cell_type": "code",
   "execution_count": 1,
   "metadata": {},
   "outputs": [
    {
     "name": "stdout",
     "output_type": "stream",
     "text": [
      "usage: gradgpad [-h] [--reproducible-research] [--zip]\r\n",
      "                [--output-path OUTPUT_PATH] [--show-hist]\r\n",
      "                [--score-filename-devel SCORE_FILENAME_DEVEL]\r\n",
      "                [--score-filename-test SCORE_FILENAME_TEST] [--show-path]\r\n",
      "                [--show-scores-path]\r\n",
      "\r\n",
      "optional arguments:\r\n",
      "  -h, --help            show this help message and exit\r\n",
      "  --reproducible-research, -rr\r\n",
      "                        Create a folder with reproducible research results\r\n",
      "  --zip, -z             Zip result folder\r\n",
      "  --output-path OUTPUT_PATH, -o OUTPUT_PATH\r\n",
      "                        Output path\r\n",
      "  --show-hist, -sh      Show hist from score filename\r\n",
      "  --score-filename-devel SCORE_FILENAME_DEVEL, -sfd SCORE_FILENAME_DEVEL\r\n",
      "                        Score filename Devel\r\n",
      "  --score-filename-test SCORE_FILENAME_TEST, -sft SCORE_FILENAME_TEST\r\n",
      "                        Score filename Tests\r\n",
      "  --show-path, -sp      Show Package Path\r\n",
      "  --show-scores-path, -ssp\r\n",
      "                        Show Scores Path\r\n"
     ]
    }
   ],
   "source": [
    "!gradgpad -h"
   ]
  },
  {
   "cell_type": "markdown",
   "metadata": {},
   "source": [
    "##### 👩‍💻 Reproducible Research\n",
    "\n",
    "To reproduce the research you only have to select an `<output>` folder an run the following command:"
   ]
  },
  {
   "cell_type": "code",
   "execution_count": null,
   "metadata": {},
   "outputs": [],
   "source": [
    "!gradgpad --reproducible-research -o output"
   ]
  },
  {
   "cell_type": "markdown",
   "metadata": {},
   "source": [
    "##### 👩‍💻 Show Histograms\n",
    "\n",
    "Besides, `gradgpad` CLI can show the hist from score files\n",
    "\n",
    "For instance, if we want to visualize the hist of Quality-based approach, just type:"
   ]
  },
  {
   "cell_type": "code",
   "execution_count": 13,
   "metadata": {},
   "outputs": [
    {
     "name": "stdout",
     "output_type": "stream",
     "text": [
      "Figure(640x480)\r\n"
     ]
    }
   ],
   "source": [
    "!gradgpad --show-hist \\\n",
    "  --score-filename-devel $(gradgpad --show-scores-path)/quality_rbf/quality_rbf_grandtest_devel.json \\\n",
    "  --score-filename-test $(gradgpad --show-scores-path)/quality_rbf/quality_rbf_grandtest_test.json"
   ]
  },
  {
   "cell_type": "markdown",
   "metadata": {},
   "source": [
    "Or for Auxiliary-based face-PAD approach"
   ]
  },
  {
   "cell_type": "code",
   "execution_count": 5,
   "metadata": {},
   "outputs": [
    {
     "name": "stdout",
     "output_type": "stream",
     "text": [
      "Figure(640x480)\r\n"
     ]
    }
   ],
   "source": [
    "!gradgpad --show-hist \\\n",
    "  --score-filename-devel $(gradgpad --show-scores-path)/auxiliary/auxiliary_grandtest_devel.json \\\n",
    "  --score-filename-test $(gradgpad --show-scores-path)/auxiliary/auxiliary_grandtest_test.json"
   ]
  },
  {
   "cell_type": "code",
   "execution_count": null,
   "metadata": {},
   "outputs": [],
   "source": []
  }
 ],
 "metadata": {
  "kernelspec": {
   "display_name": "Python 3",
   "language": "python",
   "name": "python3"
  },
  "language_info": {
   "codemirror_mode": {
    "name": "ipython",
    "version": 3
   },
   "file_extension": ".py",
   "mimetype": "text/x-python",
   "name": "python",
   "nbconvert_exporter": "python",
   "pygments_lexer": "ipython3",
   "version": "3.7.9"
  }
 },
 "nbformat": 4,
 "nbformat_minor": 4
}

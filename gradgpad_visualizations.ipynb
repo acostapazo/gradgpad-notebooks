{
 "cells": [
  {
   "cell_type": "markdown",
   "metadata": {},
   "source": [
    "# The GRAD-GPAD framework 🗿 \n",
    "    \n",
    "    ➡️ Visualization\n",
    "---\n",
    "\n",
    "The `gradgpad` framework povides *Python* tooling to create novel visualization graphs to ease research pipeline and fair comparision on face-PAD topic. \n",
    "\n",
    "This tutorial is a detailed description of main visualizations available in `gradgpad`. Additionaly, thanks to `ipywidgets` standard module we can interact with visualizations. \n",
    "\n",
    "\n",
    "## Table of Contents 👩‍💻\n",
    "1. Software Design ⚖️\n",
    "2. Installation 💻\n",
    "3. Import gradgpad\n",
    "4. Histogram Plotter\n",
    "5. DET Plotter\n",
    "6. PAD Radar Plotter\n",
    "7. Bias Percentiles Plotter\n",
    "\n",
    "---\n",
    "### <span style='color :blue' > 1. Software Design ⚖️ </span>  \n",
    "\n",
    "<img src=\"images/gradgpad_detailed_architecture_highlight_visualization.jpeg\" align=\"left\" width=\"600\" height=\"800\" />"
   ]
  },
  {
   "cell_type": "markdown",
   "metadata": {},
   "source": [
    "### <span style='color :blue' > 2. Installation 💻 </span>  \n"
   ]
  },
  {
   "cell_type": "code",
   "execution_count": null,
   "metadata": {},
   "outputs": [],
   "source": [
    "!pip install -U gradgpad"
   ]
  },
  {
   "cell_type": "markdown",
   "metadata": {},
   "source": [
    "### <span style='color :blue' > 3. Import gradgpad </span>  "
   ]
  },
  {
   "cell_type": "code",
   "execution_count": null,
   "metadata": {},
   "outputs": [],
   "source": [
    "import os\n",
    "from ipywidgets import interact, Layout, FloatSlider, Dropdown\n",
    "\n",
    "from gradgpad import (\n",
    "    PadRadarPaiPlotter,\n",
    "    PadRadarProtocolPlotter,\n",
    "    BiasPercentilePlotter,\n",
    "    HistogramPlotter,\n",
    "    DetPlotter,\n",
    "    WorkingPoint,\n",
    "    FineGrainedPaisProvider,\n",
    "    CombinedScenario,\n",
    "    ResultsProvider,\n",
    "    Approach,\n",
    "    Protocol, \n",
    "    GifCreator,\n",
    "    ScoresProvider,\n",
    "    Subset,\n",
    "    Metrics,\n",
    "    SplitByLabelMode,\n",
    "    Demographic,\n",
    "    GrainedPaiMode\n",
    ")\n",
    "\n",
    "# Load Results\n",
    "results = {\n",
    "    \"Quality\": ResultsProvider.get(\n",
    "        Approach.QUALITY_RBF, protocol=Protocol.GRANDTEST\n",
    "    ),\n",
    "    \"Auxiliary\": ResultsProvider.get(\n",
    "        Approach.AUXILIARY, protocol=Protocol.GRANDTEST\n",
    "    ),\n",
    "}\n",
    "\n",
    "all_results = {\n",
    "    \"Quality\": ResultsProvider.all(\n",
    "        Approach.QUALITY_RBF\n",
    "    ),\n",
    "    \"Auxiliary\": ResultsProvider.all(\n",
    "        Approach.AUXILIARY\n",
    "    ),\n",
    "}\n",
    "\n",
    "# Load Scores\n",
    "scores_auxiliary_devel = ScoresProvider.get(\n",
    "    Approach.AUXILIARY, \n",
    "    Protocol.GRANDTEST, \n",
    "    Subset.DEVEL\n",
    ")\n",
    "scores_auxiliary_test = ScoresProvider.get(\n",
    "    Approach.AUXILIARY, \n",
    "    Protocol.GRANDTEST, \n",
    "    Subset.TEST\n",
    ")\n",
    "\n",
    "output_path = \"output\"\n",
    "os.makedirs(output_path, exist_ok=True)"
   ]
  },
  {
   "cell_type": "markdown",
   "metadata": {},
   "source": [
    "---\n",
    "### <span style='color :blue' > 4. Histogram Plotter </span>  \n",
    "\n",
    "Use `HistogramPlotter` to calculate a plot an histogram with several configurable parameters."
   ]
  },
  {
   "cell_type": "code",
   "execution_count": null,
   "metadata": {},
   "outputs": [],
   "source": [
    "histogram_plotter = HistogramPlotter()\n",
    "histogram_plotter.show(scores_auxiliary_test)"
   ]
  },
  {
   "cell_type": "markdown",
   "metadata": {},
   "source": [
    "Save the histogram with `save` method"
   ]
  },
  {
   "cell_type": "code",
   "execution_count": null,
   "metadata": {},
   "outputs": [],
   "source": [
    "histogram_plotter.save(f\"{output_path}/my_histogram.png\", scores_auxiliary_test)"
   ]
  },
  {
   "cell_type": "markdown",
   "metadata": {},
   "source": [
    "You can also configure:\n",
    "\n",
    "* Normalize the histogram with the boolean parameter `normalize`. \n",
    "* Change the title (using the `title` parameter)\n",
    "* Add a limitation for y values with `y_max_value` [0-1]\n"
   ]
  },
  {
   "cell_type": "code",
   "execution_count": null,
   "metadata": {},
   "outputs": [],
   "source": [
    "histogram_plotter = HistogramPlotter(\n",
    "    normalize=True,\n",
    "    title=\"My Histogram\",\n",
    "    y_max_value=1.4,\n",
    ")\n",
    "histogram_plotter.show(scores_auxiliary_test)"
   ]
  },
  {
   "cell_type": "markdown",
   "metadata": {},
   "source": [
    "If you want to add a threshold, you can do it with `plot_vertical_line_on_value` parameter. Use `legend_vertical_line` to customize the legend.\n",
    "\n",
    "In the following example, we calculate the EER threshold in `DEVEL` and show the Histogram in `TEST`"
   ]
  },
  {
   "cell_type": "code",
   "execution_count": null,
   "metadata": {},
   "outputs": [],
   "source": [
    "metrics = Metrics(scores_auxiliary_devel, scores_auxiliary_test)\n",
    "eer_th = metrics.get_eer_th(Subset.DEVEL)\n",
    "\n",
    "histogram_plotter = HistogramPlotter(\n",
    "    plot_vertical_line_on_value=eer_th, \n",
    "    legend_vertical_line=\"EER @ Devel\"\n",
    ")\n",
    "histogram_plotter.show(scores_auxiliary_test)"
   ]
  },
  {
   "cell_type": "markdown",
   "metadata": {},
   "source": [
    "###### <span style='color :green' > 4.1 Interactive Histogram Plotter </span>  \n",
    "\n",
    "You can also plot different subgrups to check how is distributed the scores. \n",
    "Use the following interactive function to play with the `HistogramPlotter` class"
   ]
  },
  {
   "cell_type": "code",
   "execution_count": null,
   "metadata": {},
   "outputs": [],
   "source": [
    "@interact(layout=Layout(width='120%', height='80px'))\n",
    "def calculate_histogram(\n",
    "    split_mode=SplitByLabelMode.options(),\n",
    "    show_attacks=[True, False],\n",
    "    normalize=[True, False],\n",
    "    approach=Approach.options(),\n",
    "    protocol=Protocol.grandtest_options(),\n",
    "    subset=Subset.options()\n",
    "):\n",
    "    title = f\"Histogram PAIs ({split_mode.value})\"\n",
    "            \n",
    "    histogram_plotter = HistogramPlotter(\n",
    "        title=title,\n",
    "        split_by_label_mode=split_mode,\n",
    "        normalize=normalize,\n",
    "        exclude_labels=[-1] if show_attacks is False else None,\n",
    "    )\n",
    "\n",
    "    scores = ScoresProvider.get(\n",
    "        approach, \n",
    "        protocol, \n",
    "        subset\n",
    "    )\n",
    "    histogram_plotter.show(scores)"
   ]
  },
  {
   "cell_type": "markdown",
   "metadata": {},
   "source": [
    "---\n",
    "### <span style='color :blue' > 5. DET Plotter </span>  \n",
    "\n",
    "Use `DetPlotter` to plot DET curve (Detection Error Tradeoff) where error rates for binary classification system are represented plotting the false rejection rate vs. false acceptance rate."
   ]
  },
  {
   "cell_type": "code",
   "execution_count": null,
   "metadata": {},
   "outputs": [],
   "source": [
    "det_plotter = DetPlotter()\n",
    "det_plotter.show(scores_auxiliary_test)"
   ]
  },
  {
   "cell_type": "markdown",
   "metadata": {},
   "source": [
    "Save calculated DET curve with `save` method."
   ]
  },
  {
   "cell_type": "code",
   "execution_count": null,
   "metadata": {},
   "outputs": [],
   "source": [
    "det_plotter.save(f\"{output_path}/my_det.png\", scores_auxiliary_test)"
   ]
  },
  {
   "cell_type": "markdown",
   "metadata": {},
   "source": [
    "You can also configure:\n",
    "\n",
    "* Change the title (using the `title` parameter)\n",
    "* You can also plot different subgrups performance with `split_by_label_mode`. \n"
   ]
  },
  {
   "cell_type": "code",
   "execution_count": null,
   "metadata": {},
   "outputs": [],
   "source": [
    "det_plotter = DetPlotter(\n",
    "    title=\"Demographic Sex\",\n",
    "    split_by_label_mode=SplitByLabelMode.SEX\n",
    ")\n",
    "det_plotter.show(scores_auxiliary_test)"
   ]
  },
  {
   "cell_type": "markdown",
   "metadata": {},
   "source": [
    "###### <span style='color :green' > 5.1 Interactive DET Plotter </span>  \n",
    "\n",
    "\n",
    "Use the following interactive function to play with the `Det` class"
   ]
  },
  {
   "cell_type": "code",
   "execution_count": null,
   "metadata": {},
   "outputs": [],
   "source": [
    "@interact(layout=Layout(width='120%', height='80px'))\n",
    "def calculate_det_curve(\n",
    "    split_mode=SplitByLabelMode.options_for_curves(),\n",
    "):\n",
    "    title = f\"DET PAIs ({split_mode.value})\"\n",
    "    \n",
    "    det_plotter = DetPlotter(\n",
    "        title=title,\n",
    "        split_by_label_mode=split_mode,\n",
    "    )\n",
    "\n",
    "    det_plotter.show(scores_auxiliary_test)"
   ]
  },
  {
   "cell_type": "markdown",
   "metadata": {},
   "source": [
    "---\n",
    "### <span style='color :blue' > 6. PAD Radar Plotter </span>  \n",
    "\n",
    "\n",
    "The “PAD-radar” show us information related to model’s generalization and PAI behaviour.\n",
    "\n",
    "* *PAD-Radar by PAI*: Use `PadRadarPaiPlotter` to calculate a radar graph where each vertex is the performance (APCER for a given BPCER working point) of an specific PAI.\n",
    "* *PAD-Radar by protocols*: Use `PadRadarProtocolPlotter`to calculate a radar graph where each vertex is the performance (APCER for a given BPCER working point) of an specific subprotocol (e.g cross-dataset -> Replay-Mobile).\n",
    "\n",
    "\n",
    "##### 6.1 PAD Radar By PAI"
   ]
  },
  {
   "cell_type": "code",
   "execution_count": null,
   "metadata": {},
   "outputs": [],
   "source": [
    "pad_radar_pai_plotter = PadRadarPaiPlotter(\n",
    "    title=\"My First PAD-Radar\",\n",
    "    working_point=WorkingPoint.BPCER_10,\n",
    "    combined_scenario=CombinedScenario.PAS_II_AND_III\n",
    ")\n",
    "pad_radar_pai_plotter.show(results)"
   ]
  },
  {
   "cell_type": "markdown",
   "metadata": {},
   "source": [
    "###### <span style='color :green' > 6.1.1 Interactive PAD radar by PAI Plotter </span>  \n",
    "\n",
    "\n",
    "Let's do it this interactive. Select the working point and the PAS (Presentation Attack Scenario)"
   ]
  },
  {
   "cell_type": "code",
   "execution_count": null,
   "metadata": {},
   "outputs": [],
   "source": [
    "@interact\n",
    "def calculate_pad_radar_by_pai(\n",
    "    wp=WorkingPoint.options(),\n",
    "    scenario=CombinedScenario.options()\n",
    "):\n",
    "    title = f\"PAD-Radar | APCER {wp}%\".replace(\"WorkingPoint.\", \"@ \").replace(\"_\", \" \")\n",
    "    \n",
    "    pad_radar_pai_plotter = PadRadarPaiPlotter(\n",
    "        title=title,\n",
    "        working_point=wp,\n",
    "        combined_scenario=scenario\n",
    "    )\n",
    "    pad_radar_pai_plotter.show(results)"
   ]
  },
  {
   "cell_type": "markdown",
   "metadata": {},
   "source": [
    "##### 6.2. PAD Radar By Protocol"
   ]
  },
  {
   "cell_type": "code",
   "execution_count": null,
   "metadata": {},
   "outputs": [],
   "source": [
    "pad_radar_protocol_plotter = PadRadarProtocolPlotter(\n",
    "    title=\"PAD-Radar (Cross-Database)\",\n",
    "    working_point=WorkingPoint.BPCER_10,\n",
    "    grained_pai_mode=GrainedPaiMode.FINE,\n",
    "    protocol=Protocol.CROSS_DATASET\n",
    ")\n",
    "pad_radar_protocol_plotter.show(all_results)"
   ]
  },
  {
   "cell_type": "markdown",
   "metadata": {},
   "source": [
    "###### <span style='color :green' > 6.2.1 Interactive PAD radar by Protocol Plotter </span>  "
   ]
  },
  {
   "cell_type": "code",
   "execution_count": null,
   "metadata": {},
   "outputs": [],
   "source": [
    "@interact\n",
    "def calculate_pad_radar_by_prtocol(\n",
    "    wp=WorkingPoint.options(),\n",
    "    grained_pai_mode=GrainedPaiMode.options(),\n",
    "    protocol=Protocol.generalization_options()\n",
    "):\n",
    "    title = f\"PAD-Radar {protocol.value} | APCER {wp}%\".replace(\"WorkingPoint.\", \"@ \").replace(\"_\", \" \")\n",
    "    pad_radar_protocol_plotter = PadRadarProtocolPlotter(\n",
    "        title=title,\n",
    "        working_point=wp,\n",
    "        grained_pai_mode=grained_pai_mode,\n",
    "        protocol=protocol\n",
    "    )\n",
    "    pad_radar_protocol_plotter.show(all_results)"
   ]
  },
  {
   "cell_type": "markdown",
   "metadata": {},
   "source": [
    "##### 6.3. Create a dynamic PAD radar image (GIF)\n",
    "\n",
    "Save several PAD radar (e.g different working point)."
   ]
  },
  {
   "cell_type": "code",
   "execution_count": null,
   "metadata": {},
   "outputs": [],
   "source": [
    "saved_filenames = []\n",
    "for working_point in WorkingPoint.options():\n",
    "    title = f\"PAD-Radar | APCER {working_point}%\".replace(\"WorkingPoint.\", \"@ \").replace(\"_\", \" \")\n",
    "    output_filename = f\"{output_path}/pad_radar_apcer_{working_point}.png\".lower()\n",
    "\n",
    "    pad_radar_pai_plotter = PadRadarPaiPlotter(\n",
    "        title=title,\n",
    "        working_point=working_point,\n",
    "        combined_scenario=CombinedScenario.PAS_I_AND_II\n",
    "    )\n",
    "    pad_radar_pai_plotter.save(output_filename, results)\n",
    "    saved_filenames.append(output_filename)"
   ]
  },
  {
   "cell_type": "markdown",
   "metadata": {},
   "source": [
    "From saved files, we can create a GIF with the following code:"
   ]
  },
  {
   "cell_type": "code",
   "execution_count": null,
   "metadata": {},
   "outputs": [],
   "source": [
    "from IPython.display import Image\n",
    "\n",
    "output_filename = f\"{output_path}/pad_radar.gif\"\n",
    "\n",
    "GifCreator.execute(output_filename, saved_filenames)\n",
    "\n",
    "display(Image(output_filename))"
   ]
  },
  {
   "cell_type": "markdown",
   "metadata": {},
   "source": [
    "---\n",
    "### <span style='color :blue' > 7. Bias Percentile Plotter</span>  \n",
    "\n",
    "\n",
    "The “Bias-Percentile” is a proposed visualization to observe the usability of a system considering different Demographic groups. To represent genuine and attacks scores in a percentile graph, use `BiasPercentilePlotter`."
   ]
  },
  {
   "cell_type": "code",
   "execution_count": null,
   "metadata": {},
   "outputs": [],
   "source": [
    "bias_percentile_plotter = BiasPercentilePlotter(\n",
    "    title=\"Bias Percentile\",\n",
    "    demographic=Demographic.SEX,\n",
    ")\n",
    "\n",
    "bias_percentile_plotter.show(scores_auxiliary_test)"
   ]
  },
  {
   "cell_type": "markdown",
   "metadata": {},
   "source": [
    "Use `working_point` tuple to plot a working point region. Imagine you want to compare bias percentiles over a given acceptable working point for a specific use case."
   ]
  },
  {
   "cell_type": "code",
   "execution_count": null,
   "metadata": {},
   "outputs": [],
   "source": [
    "bias_percentile_plotter = BiasPercentilePlotter(\n",
    "    title=\"Bias Percentile\",\n",
    "    demographic=Demographic.SEX,\n",
    "    working_point=(0.4, 0.6)\n",
    ")\n",
    "\n",
    "bias_percentile_plotter.show(scores_auxiliary_test)"
   ]
  },
  {
   "cell_type": "markdown",
   "metadata": {},
   "source": [
    "###### <span style='color :green' > 7.1 Interactive Bias Percentile Plotter </span>  \n",
    "\n",
    "Play with the following interactive function:"
   ]
  },
  {
   "cell_type": "code",
   "execution_count": null,
   "metadata": {},
   "outputs": [],
   "source": [
    "@interact(layout=Layout(width='150%', height='80px'))\n",
    "def calculate_percentile(\n",
    "    demographic=Demographic.options(),\n",
    "    lower_wp=FloatSlider(min=0.0, max=1.0, step=0.05, value=0.4),\n",
    "    higher_wp=FloatSlider(min=0.0, max=1.0, step=0.05, value=0.55),\n",
    "    approach=Dropdown(\n",
    "        options=Approach.options(),\n",
    "        value=Approach.AUXILIARY,\n",
    "    ),\n",
    "    protocol=Dropdown(\n",
    "        options=Protocol.options(),\n",
    "        value=Protocol.GRANDTEST_SEX_50_50,\n",
    "    ),\n",
    "    subset=Dropdown(\n",
    "        options=Subset.options(),\n",
    "        value=Subset.TEST,\n",
    "    )\n",
    "):\n",
    "    title = f\"Percentile ({demographic.value})\"\n",
    "            \n",
    "    bias_percentile_plotter = BiasPercentilePlotter(\n",
    "        title=title,\n",
    "        demographic=demographic,\n",
    "        working_point=(lower_wp, higher_wp)\n",
    "    )\n",
    "    \n",
    "    scores = ScoresProvider.get(\n",
    "        approach, \n",
    "        protocol, \n",
    "        subset\n",
    "    )\n",
    "    bias_percentile_plotter.show(scores)"
   ]
  },
  {
   "cell_type": "code",
   "execution_count": null,
   "metadata": {},
   "outputs": [],
   "source": []
  }
 ],
 "metadata": {
  "kernelspec": {
   "display_name": "Python 3",
   "language": "python",
   "name": "python3"
  },
  "language_info": {
   "codemirror_mode": {
    "name": "ipython",
    "version": 3
   },
   "file_extension": ".py",
   "mimetype": "text/x-python",
   "name": "python",
   "nbconvert_exporter": "python",
   "pygments_lexer": "ipython3",
   "version": "3.7.9"
  }
 },
 "nbformat": 4,
 "nbformat_minor": 4
}

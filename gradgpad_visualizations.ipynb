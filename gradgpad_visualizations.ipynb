{
 "cells": [
  {
   "cell_type": "markdown",
   "metadata": {},
   "source": [
    "# The GRAD-GPAD framework 🗿 \n",
    "    \n",
    "    ➡️ Visualization\n",
    "---\n",
    "\n",
    "The `gradgpad` framework povide python modules to create novel visualization graphs to ease the face-PAD comparision. This tutorial is designed to help you become familiar with the Radar and the Percentile proposals.\n",
    "\n",
    "\n",
    "![alt text](images/gradgpad_detailed_architecture.jpeg \"Title\")\n",
    "\n",
    "\n",
    "\n",
    "## Table of Contents 👩‍💻\n",
    "- Installation 💻\n",
    "- Environment\n",
    "- Radar\n",
    "- Percentiles"
   ]
  },
  {
   "cell_type": "markdown",
   "metadata": {},
   "source": [
    "### Installation 💻"
   ]
  },
  {
   "cell_type": "code",
   "execution_count": null,
   "metadata": {
    "scrolled": true
   },
   "outputs": [],
   "source": [
    "pip install -U gradgpad"
   ]
  },
  {
   "cell_type": "markdown",
   "metadata": {},
   "source": [
    "---\n",
    "### Environment\n",
    "\n",
    "We start importing required objects:"
   ]
  },
  {
   "cell_type": "code",
   "execution_count": null,
   "metadata": {},
   "outputs": [],
   "source": [
    "import os\n",
    "from gradgpad import (\n",
    "    ConfigRadar,\n",
    "    Radar,\n",
    "    WorkingPoint,\n",
    "    FineGrainPaisProvider,\n",
    "    CombinedScenario,\n",
    "    ResultsProvider,\n",
    "    Approach,\n",
    "    Protocol, \n",
    "    GifCreator\n",
    ")\n",
    "\n",
    "# Load Results\n",
    "results = {\n",
    "    \"Quality\": ResultsProvider.get(\n",
    "        Approach.QUALITY_RBF, protocol=Protocol.GRANDTEST\n",
    "    ),\n",
    "    \"Auxiliary\": ResultsProvider.get(\n",
    "        Approach.AUXILIARY, protocol=Protocol.GRANDTEST\n",
    "    ),\n",
    "}\n",
    "\n",
    "output_path = \"output\"\n",
    "os.makedirs(output_path, exist_ok=True)"
   ]
  },
  {
   "cell_type": "markdown",
   "metadata": {},
   "source": [
    "---\n",
    "### Radar\n",
    "\n",
    "The “PAD-radar” show us information related to model’s generalization and PAI behaviour."
   ]
  },
  {
   "cell_type": "code",
   "execution_count": null,
   "metadata": {},
   "outputs": [],
   "source": [
    "config_radar = ConfigRadar(\n",
    "    title=\"My First PAD-Radar\",\n",
    "    working_point=WorkingPoint.BPCER_10,\n",
    "    filter_pais=FineGrainPaisProvider.by(CombinedScenario.PAS_I_AND_II)\n",
    ")\n",
    "radar = Radar(config_radar)\n",
    "radar.show(results)"
   ]
  },
  {
   "cell_type": "markdown",
   "metadata": {},
   "source": [
    "Let's do it this interactive. Select the working point and the PAS (Presentation Attack Scenario)"
   ]
  },
  {
   "cell_type": "code",
   "execution_count": null,
   "metadata": {},
   "outputs": [],
   "source": [
    "import os\n",
    "from ipywidgets import interact\n",
    "\n",
    "@interact\n",
    "def calculate_pad_radar(\n",
    "    working_point=WorkingPoint.options(),\n",
    "    pas=CombinedScenario.options()\n",
    "):\n",
    "    title = f\"PAD-Radar {working_point}%\".replace(\"WorkingPoint.\", \"@ \").replace(\"_\", \" \")\n",
    "    \n",
    "    config_radar = ConfigRadar(\n",
    "        title=title,\n",
    "        working_point=working_point,\n",
    "        filter_pais=FineGrainPaisProvider.by(pas)\n",
    "    )\n",
    "    radar = Radar(config_radar)\n",
    "    radar.show(results)"
   ]
  },
  {
   "cell_type": "markdown",
   "metadata": {},
   "source": [
    "You can also save the radar:"
   ]
  },
  {
   "cell_type": "code",
   "execution_count": null,
   "metadata": {},
   "outputs": [],
   "source": [
    "saved_filenames = []\n",
    "for working_point in WorkingPoint.options():\n",
    "    title = f\"PAD-Radar {working_point}%\".replace(\"WorkingPoint.\", \"@ \").replace(\"_\", \" \")\n",
    "    output_filename = f\"{output_path}/pad_radar_{working_point}.png\".lower()\n",
    "    config_radar = ConfigRadar(\n",
    "        title=title,\n",
    "        working_point=working_point,\n",
    "        filter_pais=FineGrainPaisProvider.by(CombinedScenario.PAS_I_AND_II)\n",
    "    )\n",
    "    radar = Radar(config_radar)\n",
    "    radar.save(output_filename, results)\n",
    "    saved_filenames.append(output_filename)"
   ]
  },
  {
   "cell_type": "markdown",
   "metadata": {},
   "source": [
    "From saved files, we can create a GIF with the following code:"
   ]
  },
  {
   "cell_type": "code",
   "execution_count": null,
   "metadata": {
    "scrolled": true
   },
   "outputs": [],
   "source": [
    "from IPython.display import Image\n",
    "\n",
    "output_filename = f\"{output_path}/pad_radar.gif\"\n",
    "\n",
    "GifCreator.execute(output_filename, saved_filenames)\n",
    "\n",
    "display(Image(output_filename))"
   ]
  }
 ],
 "metadata": {
  "kernelspec": {
   "display_name": "Python 3",
   "language": "python",
   "name": "python3"
  },
  "language_info": {
   "codemirror_mode": {
    "name": "ipython",
    "version": 3
   },
   "file_extension": ".py",
   "mimetype": "text/x-python",
   "name": "python",
   "nbconvert_exporter": "python",
   "pygments_lexer": "ipython3",
   "version": "3.7.9"
  }
 },
 "nbformat": 4,
 "nbformat_minor": 4
}

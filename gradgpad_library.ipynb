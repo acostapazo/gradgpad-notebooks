{
 "cells": [
  {
   "cell_type": "markdown",
   "metadata": {},
   "source": [
    "# The GRAD-GPAD framework 🗿 \n",
    "    \n",
    "    ➡️ Python Library\n",
    "---\n",
    "\n",
    "\n",
    "## Table of Contents\n",
    "- Installation 💻\n",
    "- Getting Started 👩‍💻\n",
    "  * Annotations\n",
    "  * Scores\n"
   ]
  },
  {
   "cell_type": "markdown",
   "metadata": {},
   "source": [
    "### Installation 💻"
   ]
  },
  {
   "cell_type": "code",
   "execution_count": null,
   "metadata": {
    "scrolled": true
   },
   "outputs": [],
   "source": [
    "pip install -U gradgpad"
   ]
  },
  {
   "cell_type": "markdown",
   "metadata": {},
   "source": [
    "---\n",
    "### Getting Started 👩‍💻\n",
    "\n",
    "The `gradgpad` framework povide python modules to ease face-PAD research.\n",
    "\n",
    "##### Annotations\n",
    "\n",
    "There are nearly 30000 annotations for the 13 datasets presented in the GRAD-GPAD v2."
   ]
  },
  {
   "cell_type": "code",
   "execution_count": null,
   "metadata": {},
   "outputs": [],
   "source": [
    "from gradgpad import annotations\n",
    "assert annotations.num_annotations == 29567"
   ]
  },
  {
   "cell_type": "markdown",
   "metadata": {},
   "source": [
    "You can print each of the annotations using sorted index. Note if not select an annotation index it will print the `29567` annotations, but this is not recommended to use on a Notebook."
   ]
  },
  {
   "cell_type": "code",
   "execution_count": null,
   "metadata": {},
   "outputs": [],
   "source": [
    "annotations.print_semantic(annotation_index=0)"
   ]
  },
  {
   "cell_type": "markdown",
   "metadata": {},
   "source": [
    "You can also, filter by dataset ids as the example below:"
   ]
  },
  {
   "cell_type": "code",
   "execution_count": null,
   "metadata": {},
   "outputs": [],
   "source": [
    "selected_ids = [\"replay-mobile_devel/real/client023_session02_authenticate_tablet_controlled.mov\", \n",
    "                \"replay-mobile_devel/real/client025_session02_authenticate_tablet_controlled.mov\",\n",
    "                \"replay-mobile_devel/real/client029_session02_authenticate_mobile_direct.mov\",\n",
    "                \"replay-mobile_devel/real/client005_session02_authenticate_mobile_controlled.mov\"]\n",
    "selected_annotations = annotations.get_annotations_from_ids(selected_ids)\n",
    "assert len(selected_annotations) == len(selected_ids)"
   ]
  },
  {
   "cell_type": "markdown",
   "metadata": {},
   "source": [
    "Calculate Presentation Attack Intrument Statics from `annotations` with `calculate_pai_stats` function."
   ]
  },
  {
   "cell_type": "code",
   "execution_count": null,
   "metadata": {
    "scrolled": true
   },
   "outputs": [],
   "source": [
    "import json\n",
    "from gradgpad import calculate_pai_stats\n",
    "\n",
    "gradgpad_pai_stats = calculate_pai_stats(annotations)\n",
    "print(json.dumps(gradgpad_pai_stats, indent=4, sort_keys=True))"
   ]
  },
  {
   "cell_type": "markdown",
   "metadata": {},
   "source": [
    "This stadistic are reflected on work [CITATION] Figure XXXX\n",
    "\n",
    "<img src=\"images/grad-gpad-pais.png\" width=\"300\">"
   ]
  },
  {
   "cell_type": "markdown",
   "metadata": {},
   "source": [
    "##### Scores\n",
    "\n",
    "The `gradgpad` library has available a class to provide scores for both baselines (Quality and Auxiliary)."
   ]
  },
  {
   "cell_type": "code",
   "execution_count": null,
   "metadata": {},
   "outputs": [],
   "source": [
    "from gradgpad import Approach, Protocol, ScoresProvider, Subset, Dataset, Device, CoarseGrainPai"
   ]
  },
  {
   "cell_type": "markdown",
   "metadata": {},
   "source": [
    "To retrieve all scores for a specific approach, use `ScoresProvider.all(approach)`"
   ]
  },
  {
   "cell_type": "code",
   "execution_count": null,
   "metadata": {},
   "outputs": [],
   "source": [
    "scores_quality = ScoresProvider.all(Approach.QUALITY_RBF)\n",
    "scores_auxiliary = ScoresProvider.all(Approach.AUXILIARY)"
   ]
  },
  {
   "cell_type": "markdown",
   "metadata": {},
   "source": [
    "To retrieve all scores by subsets, use `ScoresProvider.get_subsets(approach, protocol)`:"
   ]
  },
  {
   "cell_type": "code",
   "execution_count": null,
   "metadata": {},
   "outputs": [],
   "source": [
    "scores_auxiliary_subsets = ScoresProvider.get_subsets(Approach.AUXILIARY, Protocol.GRANDTEST)\n",
    "scores_auxiliary_devel = scores_auxiliary_subsets.get(\"devel\")\n",
    "scores_auxiliary_test = scores_auxiliary_subsets.get(\"test\")"
   ]
  },
  {
   "cell_type": "markdown",
   "metadata": {},
   "source": [
    "Besides, you can obtain scores with `ScoresProvider.get(approach, protocol, subset, dataset, device, pai)`"
   ]
  },
  {
   "cell_type": "code",
   "execution_count": null,
   "metadata": {},
   "outputs": [],
   "source": [
    "scores_auxiliary_test = ScoresProvider.get(Approach.AUXILIARY, Protocol.GRANDTEST, Subset.TEST)"
   ]
  },
  {
   "cell_type": "markdown",
   "metadata": {},
   "source": [
    "Or more specific scores"
   ]
  },
  {
   "cell_type": "code",
   "execution_count": null,
   "metadata": {},
   "outputs": [],
   "source": [
    "scores_specific = ScoresProvider.get(\n",
    "    Approach.AUXILIARY, \n",
    "    Protocol.GRANDTEST, \n",
    "    Subset.TEST, \n",
    "    Dataset.REPLAY_MOBILE, \n",
    "    Device.MOBILE_TABLET, \n",
    "    CoarseGrainPai.REPLAY\n",
    ")"
   ]
  },
  {
   "cell_type": "markdown",
   "metadata": {},
   "source": [
    "You can check every option with static method `options`"
   ]
  },
  {
   "cell_type": "code",
   "execution_count": null,
   "metadata": {
    "scrolled": true
   },
   "outputs": [],
   "source": [
    "print(f\"- Approaches:\\n  > {Approach.options()}\\n\")\n",
    "print(f\"- Protocol:\\n  > {Protocol.options()}\\n\")\n",
    "print(f\"- Subset:\\n  > {Subset.options()}\\n\")\n",
    "print(f\"- Dataset:\\n  > {Dataset.options()}\\n\")\n",
    "print(f\"- CoarseGrainPai:\\n  > {CoarseGrainPai.options()}\\n\")"
   ]
  },
  {
   "cell_type": "markdown",
   "metadata": {},
   "source": [
    "Additionaly, provided `Scores` class implements useful tools to manage obtained scores from an experiment: "
   ]
  },
  {
   "cell_type": "code",
   "execution_count": null,
   "metadata": {},
   "outputs": [],
   "source": [
    "scores = ScoresProvider.get(Approach.AUXILIARY, Protocol.GRANDTEST, Subset.TEST)\n",
    "\n",
    "genuine_scores = scores.get_genuine()\n",
    "genuine_attacks = scores.get_attacks()"
   ]
  },
  {
   "cell_type": "markdown",
   "metadata": {},
   "source": [
    "Using `numpy` for data management in your experiments, just use `get_numpy_scores` and `get_numpy_labels`"
   ]
  },
  {
   "cell_type": "code",
   "execution_count": null,
   "metadata": {},
   "outputs": [],
   "source": [
    "numpy_scores_genuine = scores.get_numpy_scores()\n",
    "numpy_scores_labels = scores.get_numpy_labels()"
   ]
  },
  {
   "cell_type": "markdown",
   "metadata": {},
   "source": [
    "Another interesting tool that implements `Scores` object is the filtering method `filtered_by` wich uses `Filter` object.\n",
    "\n",
    "Imagine we want filter by `Sex`, `Age` or `SkinTone`:"
   ]
  },
  {
   "cell_type": "code",
   "execution_count": null,
   "metadata": {},
   "outputs": [],
   "source": [
    "from gradgpad import Filter, Sex, Age, SkinTone\n",
    "\n",
    "# Sex\n",
    "male_scores = scores.filtered_by(Filter(sex=Sex.MALE))\n",
    "female_scores = scores.filtered_by(Filter(sex=Sex.FEMALE))\n",
    "\n",
    "# Age\n",
    "young_scores = scores.filtered_by(Filter(age=Age.YOUNG))\n",
    "adult_scores = scores.filtered_by(Filter(age=Age.ADULT))\n",
    "senior_scores = scores.filtered_by(Filter(age=Age.SENIOR))\n",
    "\n",
    "# SkinTone\n",
    "light_pink_scores = scores.filtered_by(Filter(skin_tone=SkinTone.LIGHT_PINK))\n",
    "light_yellow_scores = scores.filtered_by(Filter(skin_tone=SkinTone.LIGHT_YELLOW))\n",
    "medium_pink_brown_scores = scores.filtered_by(Filter(skin_tone=SkinTone.MEDIUM_PINK_BROWN))\n",
    "medium_dark_brown_scores = scores.filtered_by(Filter(skin_tone=SkinTone.MEDIUM_DARK_BROWN))\n",
    "dark_brown_scores = scores.filtered_by(Filter(skin_tone=SkinTone.DARK_BROWN))"
   ]
  },
  {
   "cell_type": "markdown",
   "metadata": {},
   "source": [
    "Or just filter by dataset"
   ]
  },
  {
   "cell_type": "code",
   "execution_count": null,
   "metadata": {},
   "outputs": [],
   "source": [
    "from gradgpad import Dataset\n",
    "\n",
    "casia_fasd_scores = scores.filtered_by(Filter(dataset=Dataset.CASIA_FASD))\n",
    "threedmad_scores = scores.filtered_by(Filter(dataset=Dataset.THREEDMAD))\n",
    "uvad_scores = scores.filtered_by(Filter(dataset=Dataset.UVAD))\n",
    "siw_m_scores = scores.filtered_by(Filter(dataset=Dataset.SIW_M))\n",
    "siw_scores = scores.filtered_by(Filter(dataset=Dataset.SIW))\n",
    "rose_youtu_scores = scores.filtered_by(Filter(dataset=Dataset.ROSE_YOUTU))\n",
    "replay_mobile_scores = scores.filtered_by(Filter(dataset=Dataset.REPLAY_MOBILE))\n",
    "replay_attack_scores = scores.filtered_by(Filter(dataset=Dataset.REPLAY_ATTACK))\n",
    "oulu_npu_scores = scores.filtered_by(Filter(dataset=Dataset.OULU_NPU))\n",
    "msu_mfsd_scores = scores.filtered_by(Filter(dataset=Dataset.MSU_MFSD))\n",
    "hkbu_v2_scores = scores.filtered_by(Filter(dataset=Dataset.HKBU_V2))\n",
    "hkbu_scores = scores.filtered_by(Filter(dataset=Dataset.HKBU))\n",
    "csmad_scores = scores.filtered_by(Filter(dataset=Dataset.CSMAD))"
   ]
  },
  {
   "cell_type": "markdown",
   "metadata": {},
   "source": [
    "Or by scenario:\n",
    "* **Genuine** (`Scenario.GENUINE`): Genuine attemps;\n",
    "* **PAS I** (`Scenario.PAS_TYPE_I`): represents a scenario where spoofers have freedom to try to impersonate an identity completely (as with a stolen cell phone or in an isolated access environment);\n",
    "* **PAS II** (`Scenario.PAS_TYPE_II`): represents partial identity impersonations, where attackers only use a part of someone else’s identity;\n",
    "* **PAS III** (`Scenario.PAS_TYPE_III`): where users try to hide their identity without impersonating anyone in particular"
   ]
  },
  {
   "cell_type": "code",
   "execution_count": null,
   "metadata": {},
   "outputs": [],
   "source": [
    "from gradgpad import Scenario\n",
    "\n",
    "genuine_scores = scores.filtered_by(Filter(scenario=Scenario.GENUINE))\n",
    "pas_I_scores = scores.filtered_by(Filter(scenario=Scenario.PAS_TYPE_I))\n",
    "pas_II_scores = scores.filtered_by(Filter(scenario=Scenario.PAS_TYPE_II))\n",
    "pas_III_scores = scores.filtered_by(Filter(scenario=Scenario.PAS_TYPE_III))"
   ]
  },
  {
   "cell_type": "markdown",
   "metadata": {},
   "source": [
    "Finally, `Scores` class provides you fair subsets (balanced) for demographic labels."
   ]
  },
  {
   "cell_type": "code",
   "execution_count": null,
   "metadata": {},
   "outputs": [],
   "source": [
    "sex_fair_subset = scores.get_fair_sex_subset()\n",
    "age_fair_subset = scores.get_fair_age_subset()\n",
    "skin_tone_fair_subset = scores.get_fair_skin_tone_subset()"
   ]
  },
  {
   "cell_type": "code",
   "execution_count": null,
   "metadata": {},
   "outputs": [],
   "source": []
  }
 ],
 "metadata": {
  "kernelspec": {
   "display_name": "Python 3",
   "language": "python",
   "name": "python3"
  },
  "language_info": {
   "codemirror_mode": {
    "name": "ipython",
    "version": 3
   },
   "file_extension": ".py",
   "mimetype": "text/x-python",
   "name": "python",
   "nbconvert_exporter": "python",
   "pygments_lexer": "ipython3",
   "version": "3.7.9"
  }
 },
 "nbformat": 4,
 "nbformat_minor": 4
}

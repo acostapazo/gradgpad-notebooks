{
 "cells": [
  {
   "cell_type": "markdown",
   "metadata": {},
   "source": [
    "# The GRAD-GPAD framework 🗿 \n",
    "    \n",
    "    ➡️ Foundations: The Python Library\n",
    "---\n",
    "\n",
    "The `gradgpad` framework povide python modules to ease face-PAD research. This tutorial is designed to help you become familiar with the package, undertanding the **Foundations** of the package.\n",
    "\n",
    "\n",
    "![gradgpad_detailed_architecture](images/gradgpad_detailed_architecture.jpeg \"GRAD-GPAD Architecture\")\n",
    "\n",
    "\n",
    "\n",
    "## Table of Contents 👩‍💻\n",
    "- Installation 💻\n",
    "- Environment\n",
    "- Annotations\n",
    "- Scores\n",
    "- Results\n",
    "- Metrics "
   ]
  },
  {
   "cell_type": "markdown",
   "metadata": {},
   "source": [
    "### Installation 💻"
   ]
  },
  {
   "cell_type": "code",
   "execution_count": null,
   "metadata": {
    "scrolled": true
   },
   "outputs": [],
   "source": [
    "pip install -U gradgpad"
   ]
  },
  {
   "cell_type": "markdown",
   "metadata": {},
   "source": [
    "---\n",
    "### Environment\n",
    "\n",
    "We start importing required objects:"
   ]
  },
  {
   "cell_type": "code",
   "execution_count": 2,
   "metadata": {},
   "outputs": [],
   "source": [
    "import json\n",
    "from gradgpad import (\n",
    "    annotations,\n",
    "    calculate_pai_stats,\n",
    "    ScoresProvider,\n",
    "    Approach,\n",
    "    Protocol,\n",
    "    Subset,\n",
    "    Dataset,\n",
    "    Device,\n",
    "    CoarseGrainPai,\n",
    "    Filter,\n",
    "    Sex,\n",
    "    Age,\n",
    "    SkinTone,\n",
    "    Scenario,\n",
    "    Metrics,\n",
    "    MetricsDemographics,\n",
    "    ResultsProvider\n",
    ")"
   ]
  },
  {
   "cell_type": "markdown",
   "metadata": {},
   "source": [
    "---\n",
    "### Annotations\n",
    "\n",
    "There are nearly 30000 annotations for the 13 datasets presented in the GRAD-GPAD v2."
   ]
  },
  {
   "cell_type": "code",
   "execution_count": 11,
   "metadata": {},
   "outputs": [],
   "source": [
    "assert annotations.num_annotations == 29567"
   ]
  },
  {
   "cell_type": "markdown",
   "metadata": {},
   "source": [
    "You can print each of the annotations using sorted index. Note if not select an annotation index it will print the `29567` annotations, but this is not recommended to use on a Notebook."
   ]
  },
  {
   "cell_type": "code",
   "execution_count": 12,
   "metadata": {},
   "outputs": [
    {
     "name": "stdout",
     "output_type": "stream",
     "text": [
      "Annotation: {\n",
      "    \"attributes\": {\n",
      "        \"conditions\": {\n",
      "            \"capture_device\": 0,\n",
      "            \"lighting\": 0\n",
      "        },\n",
      "        \"person\": {\n",
      "            \"age\": 1,\n",
      "            \"sex\": 0,\n",
      "            \"skin_tone\": 4\n",
      "        }\n",
      "    },\n",
      "    \"dataset\": \"casia-fasd\",\n",
      "    \"id\": \"casia-fasd_test_release/1/6.avi\",\n",
      "    \"media\": \"test_release/1/6.avi\",\n",
      "    \"spai\": {\n",
      "        \"classical\": 3,\n",
      "        \"specific\": 7,\n",
      "        \"type\": 1\n",
      "    }\n",
      "}\n",
      "{\n",
      "    \"annotations\": [\n",
      "        {\n",
      "            \"attributes\": {\n",
      "                \"conditions\": {\n",
      "                    \"capture_device\": \"webcam low quality\",\n",
      "                    \"lighting\": \"controlled\"\n",
      "                },\n",
      "                \"person\": {\n",
      "                    \"age\": \"adult\",\n",
      "                    \"sex\": \"male\",\n",
      "                    \"skin_tone\": \"medium yellow brown\"\n",
      "                }\n",
      "            },\n",
      "            \"dataset\": \"casia-fasd\",\n",
      "            \"id\": \"casia-fasd_test_release/1/6.avi\",\n",
      "            \"media\": \"test_release/1/6.avi\",\n",
      "            \"spai\": {\n",
      "                \"classical\": \"mask\",\n",
      "                \"specific\": \"mask paper\",\n",
      "                \"type\": 1\n",
      "            }\n",
      "        }\n",
      "    ]\n",
      "}\n"
     ]
    }
   ],
   "source": [
    "print(annotations.annotations[0])\n",
    "annotations.print_semantic(annotation_index=0)"
   ]
  },
  {
   "cell_type": "markdown",
   "metadata": {},
   "source": [
    "You can also, filter by dataset ids as the example below:"
   ]
  },
  {
   "cell_type": "code",
   "execution_count": 13,
   "metadata": {},
   "outputs": [],
   "source": [
    "selected_ids = [\n",
    "    \"replay-mobile_devel/real/client023_session02_authenticate_tablet_controlled.mov\", \n",
    "    \"replay-mobile_devel/real/client025_session02_authenticate_tablet_controlled.mov\",\n",
    "    \"replay-mobile_devel/real/client029_session02_authenticate_mobile_direct.mov\",\n",
    "    \"replay-mobile_devel/real/client005_session02_authenticate_mobile_controlled.mov\"]\n",
    "selected_annotations = annotations.get_annotations_from_ids(selected_ids)\n",
    "assert len(selected_annotations) == len(selected_ids)"
   ]
  },
  {
   "cell_type": "markdown",
   "metadata": {},
   "source": [
    "Calculate Presentation Attack Intrument Statics from `annotations` with `calculate_pai_stats` function."
   ]
  },
  {
   "cell_type": "code",
   "execution_count": 14,
   "metadata": {
    "scrolled": true
   },
   "outputs": [
    {
     "name": "stdout",
     "output_type": "stream",
     "text": [
      "{\n",
      "    \"num_attacks\": 23663,\n",
      "    \"num_coarse_grained_pai\": {\n",
      "        \"makeup\": 135,\n",
      "        \"mask\": 1781,\n",
      "        \"partial\": 773,\n",
      "        \"print\": 4290,\n",
      "        \"replay\": 16684\n",
      "    },\n",
      "    \"num_fine_grained_pai\": {\n",
      "        \"makeup cosmetic\": 51,\n",
      "        \"makeup impersonation\": 61,\n",
      "        \"makeup obfuscation\": 23,\n",
      "        \"mask paper\": 766,\n",
      "        \"mask rigid\": 829,\n",
      "        \"mask silicone\": 186,\n",
      "        \"partial funny eyes\": 160,\n",
      "        \"partial lower half\": 29,\n",
      "        \"partial paper glasses\": 127,\n",
      "        \"partial periocular\": 57,\n",
      "        \"partial upper half\": 400,\n",
      "        \"print high quality\": 2484,\n",
      "        \"print low quality\": 1390,\n",
      "        \"print medium quality\": 416,\n",
      "        \"replay high quality\": 8491,\n",
      "        \"replay low quality\": 400,\n",
      "        \"replay medium quality\": 7793\n",
      "    },\n",
      "    \"num_genuines\": 5904,\n",
      "    \"num_type_pai\": {\n",
      "        \"type_1\": 22816,\n",
      "        \"type_2\": 486,\n",
      "        \"type_3\": 361\n",
      "    },\n",
      "    \"percentage_num_coarse_grained_pai\": {\n",
      "        \"makeup\": 0.5705109242276972,\n",
      "        \"mask\": 7.526518192959472,\n",
      "        \"partial\": 3.266703292059333,\n",
      "        \"print\": 18.12956936990238,\n",
      "        \"replay\": 70.50669822085112\n",
      "    },\n",
      "    \"percentage_num_fine_grained_pai\": {\n",
      "        \"makeup cosmetic\": 0.21552634915268562,\n",
      "        \"makeup impersonation\": 0.25778641761399657,\n",
      "        \"makeup obfuscation\": 0.09719815746101508,\n",
      "        \"mask paper\": 3.2371212441364157,\n",
      "        \"mask rigid\": 3.5033596754426743,\n",
      "        \"mask silicone\": 0.786037273380383,\n",
      "        \"partial funny eyes\": 0.6761610953809745,\n",
      "        \"partial lower half\": 0.12255419853780163,\n",
      "        \"partial paper glasses\": 0.5367028694586485,\n",
      "        \"partial periocular\": 0.24088239022947217,\n",
      "        \"partial upper half\": 1.6904027384524363,\n",
      "        \"print high quality\": 10.497401005789628,\n",
      "        \"print low quality\": 5.874149516122216,\n",
      "        \"print medium quality\": 1.7580188479905339,\n",
      "        \"replay high quality\": 35.883024130499095,\n",
      "        \"replay low quality\": 1.6904027384524363,\n",
      "        \"replay medium quality\": 32.93327135189959\n",
      "    },\n",
      "    \"percentage_num_type_pai\": {\n",
      "        \"type_1\": 96.42057220132698,\n",
      "        \"type_2\": 2.05383932721971,\n",
      "        \"type_3\": 1.5255884714533237\n",
      "    }\n",
      "}\n"
     ]
    }
   ],
   "source": [
    "gradgpad_pai_stats = calculate_pai_stats(annotations)\n",
    "print(json.dumps(gradgpad_pai_stats, indent=4, sort_keys=True))"
   ]
  },
  {
   "cell_type": "markdown",
   "metadata": {},
   "source": [
    "This stadistic are reflected on work [CITATION] Figure XXXX\n",
    "\n",
    "<img src=\"images/grad-gpad-pais.png\" width=\"300\">"
   ]
  },
  {
   "cell_type": "markdown",
   "metadata": {},
   "source": [
    "---\n",
    "### Scores\n",
    "\n",
    "The `gradgpad` library has available a class to provide scores (`ResultProvider`).\n",
    "To retrieve all scores for a specific approach, use `ScoresProvider.all(approach)`"
   ]
  },
  {
   "cell_type": "code",
   "execution_count": 15,
   "metadata": {},
   "outputs": [],
   "source": [
    "scores_quality = ScoresProvider.all(Approach.QUALITY_RBF)\n",
    "scores_auxiliary = ScoresProvider.all(Approach.AUXILIARY)"
   ]
  },
  {
   "cell_type": "markdown",
   "metadata": {},
   "source": [
    "To retrieve all scores by subsets, use `ScoresProvider.get_subsets(approach, protocol)`:"
   ]
  },
  {
   "cell_type": "code",
   "execution_count": 16,
   "metadata": {},
   "outputs": [],
   "source": [
    "scores_auxiliary_subsets = ScoresProvider.get_subsets(\n",
    "    Approach.AUXILIARY, \n",
    "    Protocol.GRANDTEST\n",
    ")\n",
    "scores_auxiliary_devel = scores_auxiliary_subsets.get(\"devel\")\n",
    "scores_auxiliary_test = scores_auxiliary_subsets.get(\"test\")"
   ]
  },
  {
   "cell_type": "markdown",
   "metadata": {},
   "source": [
    "Besides, you can obtain scores with `ScoresProvider.get(approach, protocol, subset, dataset, device, pai)`"
   ]
  },
  {
   "cell_type": "code",
   "execution_count": 17,
   "metadata": {},
   "outputs": [],
   "source": [
    "scores_auxiliary_test = ScoresProvider.get(\n",
    "    Approach.AUXILIARY, \n",
    "    Protocol.GRANDTEST, \n",
    "    Subset.TEST)"
   ]
  },
  {
   "cell_type": "markdown",
   "metadata": {},
   "source": [
    "Or more specific scores"
   ]
  },
  {
   "cell_type": "code",
   "execution_count": 18,
   "metadata": {},
   "outputs": [],
   "source": [
    "scores_specific = ScoresProvider.get(\n",
    "    Approach.AUXILIARY, \n",
    "    Protocol.GRANDTEST, \n",
    "    Subset.TEST, \n",
    "    Dataset.REPLAY_MOBILE, \n",
    "    Device.MOBILE_TABLET, \n",
    "    CoarseGrainPai.REPLAY\n",
    ")"
   ]
  },
  {
   "cell_type": "markdown",
   "metadata": {},
   "source": [
    "You can check every option with static method `options`"
   ]
  },
  {
   "cell_type": "code",
   "execution_count": 19,
   "metadata": {
    "scrolled": true
   },
   "outputs": [
    {
     "name": "stdout",
     "output_type": "stream",
     "text": [
      "- Approaches:\n",
      "  > [<Approach.QUALITY_RBF: 'quality_rbf'>, <Approach.QUALITY_RBF_BALANCED: 'quality_rbf_balanced'>, <Approach.QUALITY_LINEAR: 'quality_linear'>, <Approach.AUXILIARY: 'auxiliary'>, <Approach.CONTINUAL_LEARNING_AUXILIARY: 'continual_learning_auxiliary'>]\n",
      "\n",
      "- Protocol:\n",
      "  > [<Protocol.GRANDTEST: 'grandtest'>, <Protocol.GRANDTEST_SEX_50_50: 'grandtest_sex_50_50'>, <Protocol.GRANDTEST_SEX_80_20: 'grandtest_sex_80_20'>, <Protocol.GRANDTEST_SEX_90_10: 'grandtest_sex_90_10'>, <Protocol.CROSS_DATASET: 'cross_dataset'>, <Protocol.CROSS_DEVICE: 'cross_device'>, <Protocol.LODO: 'lodo'>, <Protocol.UNSEEN_ATTACK: 'unseen_attack'>, <Protocol.INTRADATASET: 'intradataset'>]\n",
      "\n",
      "- Subset:\n",
      "  > [<Subset.DEVEL: 'devel'>, <Subset.TEST: 'test'>]\n",
      "\n",
      "- Dataset:\n",
      "  > [<Dataset.CASIA_FASD: 'casia-fasd'>, <Dataset.THREEDMAD: 'threedmad'>, <Dataset.UVAD: 'uvad'>, <Dataset.SIW_M: 'siw-m'>, <Dataset.SIW: 'siw'>, <Dataset.ROSE_YOUTU: 'rose-youtu'>, <Dataset.REPLAY_MOBILE: 'replay-mobile'>, <Dataset.REPLAY_ATTACK: 'replay-attack'>, <Dataset.OULU_NPU: 'oulu-npu'>, <Dataset.MSU_MFSD: 'msu-mfsd'>, <Dataset.HKBU_V2: 'hkbuv2'>, <Dataset.HKBU: 'hkbu'>, <Dataset.CSMAD: 'csmad'>]\n",
      "\n",
      "- CoarseGrainPai:\n",
      "  > [<CoarseGrainPai.MASK: 'mask'>, <CoarseGrainPai.MAKEUP: 'makeup'>, <CoarseGrainPai.PARTIAL: 'partial'>, <CoarseGrainPai.REPLAY: 'replay'>, <CoarseGrainPai.PRINT: 'print'>]\n",
      "\n"
     ]
    }
   ],
   "source": [
    "print(f\"- Approaches:\\n  > {Approach.options()}\\n\")\n",
    "print(f\"- Protocol:\\n  > {Protocol.options()}\\n\")\n",
    "print(f\"- Subset:\\n  > {Subset.options()}\\n\")\n",
    "print(f\"- Dataset:\\n  > {Dataset.options()}\\n\")\n",
    "print(f\"- CoarseGrainPai:\\n  > {CoarseGrainPai.options()}\\n\")"
   ]
  },
  {
   "cell_type": "markdown",
   "metadata": {},
   "source": [
    "Additionaly, provided `Scores` class implements useful tools to manage obtained scores from an experiment: "
   ]
  },
  {
   "cell_type": "code",
   "execution_count": 21,
   "metadata": {},
   "outputs": [],
   "source": [
    "scores = ScoresProvider.get(\n",
    "    Approach.AUXILIARY, \n",
    "    Protocol.GRANDTEST, \n",
    "    Subset.TEST\n",
    ")\n",
    "\n",
    "genuine_scores = scores.get_genuine()\n",
    "genuine_attacks = scores.get_attacks()"
   ]
  },
  {
   "cell_type": "markdown",
   "metadata": {},
   "source": [
    "Using `numpy` for data management in your experiments, just use `get_numpy_scores` and `get_numpy_labels`"
   ]
  },
  {
   "cell_type": "code",
   "execution_count": 22,
   "metadata": {},
   "outputs": [],
   "source": [
    "numpy_scores_genuine = scores.get_numpy_scores()\n",
    "numpy_scores_labels = scores.get_numpy_labels()"
   ]
  },
  {
   "cell_type": "markdown",
   "metadata": {},
   "source": [
    "Another interesting tool that implements `Scores` object is the filtering method `filtered_by` wich uses `Filter` object.\n",
    "\n",
    "Imagine we want filter by `Sex`, `Age` or `SkinTone`:"
   ]
  },
  {
   "cell_type": "code",
   "execution_count": 23,
   "metadata": {},
   "outputs": [],
   "source": [
    "# Sex\n",
    "male_scores = scores.filtered_by(Filter(sex=Sex.MALE))\n",
    "female_scores = scores.filtered_by(Filter(sex=Sex.FEMALE))\n",
    "\n",
    "# Age\n",
    "young_scores = scores.filtered_by(Filter(age=Age.YOUNG))\n",
    "adult_scores = scores.filtered_by(Filter(age=Age.ADULT))\n",
    "senior_scores = scores.filtered_by(Filter(age=Age.SENIOR))\n",
    "\n",
    "# SkinTone\n",
    "light_pink_scores = scores.filtered_by(Filter(skin_tone=SkinTone.LIGHT_PINK))\n",
    "light_yellow_scores = scores.filtered_by(Filter(skin_tone=SkinTone.LIGHT_YELLOW))\n",
    "medium_pink_brown_scores = scores.filtered_by(Filter(skin_tone=SkinTone.MEDIUM_PINK_BROWN))\n",
    "medium_dark_brown_scores = scores.filtered_by(Filter(skin_tone=SkinTone.MEDIUM_DARK_BROWN))\n",
    "dark_brown_scores = scores.filtered_by(Filter(skin_tone=SkinTone.DARK_BROWN))"
   ]
  },
  {
   "cell_type": "markdown",
   "metadata": {},
   "source": [
    "Or just filter by dataset"
   ]
  },
  {
   "cell_type": "code",
   "execution_count": 24,
   "metadata": {},
   "outputs": [],
   "source": [
    "casia_fasd_scores = scores.filtered_by(Filter(dataset=Dataset.CASIA_FASD))\n",
    "threedmad_scores = scores.filtered_by(Filter(dataset=Dataset.THREEDMAD))\n",
    "uvad_scores = scores.filtered_by(Filter(dataset=Dataset.UVAD))\n",
    "siw_m_scores = scores.filtered_by(Filter(dataset=Dataset.SIW_M))\n",
    "siw_scores = scores.filtered_by(Filter(dataset=Dataset.SIW))\n",
    "rose_youtu_scores = scores.filtered_by(Filter(dataset=Dataset.ROSE_YOUTU))\n",
    "replay_mobile_scores = scores.filtered_by(Filter(dataset=Dataset.REPLAY_MOBILE))\n",
    "replay_attack_scores = scores.filtered_by(Filter(dataset=Dataset.REPLAY_ATTACK))\n",
    "oulu_npu_scores = scores.filtered_by(Filter(dataset=Dataset.OULU_NPU))\n",
    "msu_mfsd_scores = scores.filtered_by(Filter(dataset=Dataset.MSU_MFSD))\n",
    "hkbu_v2_scores = scores.filtered_by(Filter(dataset=Dataset.HKBU_V2))\n",
    "hkbu_scores = scores.filtered_by(Filter(dataset=Dataset.HKBU))\n",
    "csmad_scores = scores.filtered_by(Filter(dataset=Dataset.CSMAD))"
   ]
  },
  {
   "cell_type": "markdown",
   "metadata": {},
   "source": [
    "Or by scenario:\n",
    "* **Genuine** (`Scenario.GENUINE`): Genuine attemps;\n",
    "* **PAS I** (`Scenario.PAS_TYPE_I`): represents a scenario where spoofers have freedom to try to impersonate an identity completely (as with a stolen cell phone or in an isolated access environment);\n",
    "* **PAS II** (`Scenario.PAS_TYPE_II`): represents partial identity impersonations, where attackers only use a part of someone else’s identity;\n",
    "* **PAS III** (`Scenario.PAS_TYPE_III`): where users try to hide their identity without impersonating anyone in particular"
   ]
  },
  {
   "cell_type": "code",
   "execution_count": 25,
   "metadata": {},
   "outputs": [],
   "source": [
    "genuine_scores = scores.filtered_by(Filter(scenario=Scenario.GENUINE))\n",
    "pas_I_scores = scores.filtered_by(Filter(scenario=Scenario.PAS_TYPE_I))\n",
    "pas_II_scores = scores.filtered_by(Filter(scenario=Scenario.PAS_TYPE_II))\n",
    "pas_III_scores = scores.filtered_by(Filter(scenario=Scenario.PAS_TYPE_III))"
   ]
  },
  {
   "cell_type": "markdown",
   "metadata": {},
   "source": [
    "Finally, `Scores` class provides you fair subsets (balanced) for demographic labels."
   ]
  },
  {
   "cell_type": "code",
   "execution_count": 26,
   "metadata": {},
   "outputs": [],
   "source": [
    "sex_fair_subset = scores.get_fair_sex_subset()\n",
    "age_fair_subset = scores.get_fair_age_subset()\n",
    "skin_tone_fair_subset = scores.get_fair_skin_tone_subset()"
   ]
  },
  {
   "cell_type": "markdown",
   "metadata": {},
   "source": [
    "---\n",
    "### Metrics"
   ]
  },
  {
   "cell_type": "code",
   "execution_count": 17,
   "metadata": {},
   "outputs": [
    {
     "name": "stdout",
     "output_type": "stream",
     "text": [
      "AUXILIARY EER [Devel: 0.09306409130803167 | Test: 0.0826664064032106]\n",
      "AUXILIARY EER Th [Devel: 0.5883721313106811 | Test: 0.6490925550464677]\n"
     ]
    }
   ],
   "source": [
    "scores_auxiliary_devel = ScoresProvider.get(\n",
    "    Approach.AUXILIARY, \n",
    "    Protocol.GRANDTEST, \n",
    "    Subset.DEVEL\n",
    ")\n",
    "\n",
    "scores_auxiliary_test = ScoresProvider.get(\n",
    "    Approach.AUXILIARY, \n",
    "    Protocol.GRANDTEST, \n",
    "    Subset.TEST\n",
    ")\n",
    "\n",
    "metrics = Metrics(\n",
    "    devel_scores=scores_auxiliary_devel,\n",
    "    test_scores=scores_auxiliary_test\n",
    ")\n",
    "\n",
    "print(f\"AUXILIARY EER [Devel: {metrics.get_eer(Subset.DEVEL)} | Test: {metrics.get_eer(Subset.TEST)}]\")\n",
    "print(f\"AUXILIARY EER Th [Devel: {metrics.get_eer_th(Subset.DEVEL)} | Test: {metrics.get_eer_th(Subset.TEST)}]\")"
   ]
  },
  {
   "cell_type": "markdown",
   "metadata": {},
   "source": [
    "---\n",
    "### Results\n",
    "\n",
    "`ResultsProvider` is implemented on top on scores and is a new level of abstraction to obtain results from Scores and Metric calculators."
   ]
  },
  {
   "cell_type": "code",
   "execution_count": 27,
   "metadata": {},
   "outputs": [],
   "source": [
    "results_auxiliary_grandtest = ResultsProvider.grandtest(Approach.AUXILIARY)\n",
    "results_auxiliary_cross_dataset = ResultsProvider.cross_dataset(Approach.AUXILIARY)\n",
    "results_auxiliary_lodo = ResultsProvider.lodo(Approach.AUXILIARY)\n",
    "results_auxiliary_cross_device = ResultsProvider.cross_device(Approach.AUXILIARY)\n",
    "results_auxiliary_unseen_attack = ResultsProvider.unseen_attack(Approach.AUXILIARY)"
   ]
  },
  {
   "cell_type": "markdown",
   "metadata": {},
   "source": [
    "If you print the result dictionary, you can check detailed result report. This function loads the scores and calculate several working points for default face-PAD metrics."
   ]
  },
  {
   "cell_type": "code",
   "execution_count": 28,
   "metadata": {},
   "outputs": [
    {
     "name": "stdout",
     "output_type": "stream",
     "text": [
      "{\n",
      "    \"grandtest\": {\n",
      "        \"aggregate\": {\n",
      "            \"acer\": 28.433285123272007,\n",
      "            \"acer_per_pai\": {\n",
      "                \"print\": 8.01738412073659,\n",
      "                \"replay\": 28.433285123272007\n",
      "            },\n",
      "            \"apcer_per_pai\": {\n",
      "                \"print\": 5.3220441487753245,\n",
      "                \"replay\": 46.15384615384615\n",
      "            },\n",
      "            \"apcer_per_pai_fixing_bpcer\": {\n",
      "                \"print\": {\n",
      "                    \"apcer_fixing_bpcer1\": 25.370426368309644,\n",
      "                    \"apcer_fixing_bpcer10\": 5.53371635923798,\n",
      "                    \"apcer_fixing_bpcer15\": 3.41699425461143,\n",
      "                    \"apcer_fixing_bpcer20\": 2.237677653462353,\n",
      "                    \"apcer_fixing_bpcer25\": 1.6732184255619393,\n",
      "                    \"apcer_fixing_bpcer30\": 1.1591573430097772,\n",
      "                    \"apcer_fixing_bpcer35\": 0.806370325572019,\n",
      "                    \"apcer_fixing_bpcer40\": 0.554379598830763,\n",
      "                    \"apcer_fixing_bpcer45\": 0.3729462755770588,\n",
      "                    \"apcer_fixing_bpcer5\": 10.412256828948694,\n",
      "                    \"apcer_fixing_bpcer50\": 0.3225481302288076\n",
      "                },\n",
      "                \"replay\": {\n",
      "                    \"apcer_fixing_bpcer1\": 93.53846153846153,\n",
      "                    \"apcer_fixing_bpcer10\": 47.69230769230769,\n",
      "                    \"apcer_fixing_bpcer15\": 31.384615384615383,\n",
      "                    \"apcer_fixing_bpcer20\": 26.769230769230766,\n",
      "                    \"apcer_fixing_bpcer25\": 21.53846153846154,\n",
      "                    \"apcer_fixing_bpcer30\": 18.153846153846153,\n",
      "                    \"apcer_fixing_bpcer35\": 16.0,\n",
      "                    \"apcer_fixing_bpcer40\": 13.846153846153847,\n",
      "                    \"apcer_fixing_bpcer45\": 11.076923076923077,\n",
      "                    \"apcer_fixing_bpcer5\": 65.84615384615384,\n",
      "                    \"apcer_fixing_bpcer50\": 9.230769230769232\n",
      "                }\n",
      "            },\n",
      "            \"bpcer\": 10.712724092697858,\n",
      "            \"max_apcer_pai\": \"replay\",\n",
      "            \"num_samples_per_pai\": {\n",
      "                \"makeup\": 0,\n",
      "                \"mask\": 0,\n",
      "                \"partial\": 0,\n",
      "                \"print\": 9921,\n",
      "                \"replay\": 325\n",
      "            },\n",
      "            \"percentage_per_pai\": {\n",
      "                \"makeup\": 0.0,\n",
      "                \"mask\": 0.0,\n",
      "                \"partial\": 0.0,\n",
      "                \"print\": 96.82803045090768,\n",
      "                \"replay\": 3.1719695490923288\n",
      "            },\n",
      "            \"relative_working_points\": {\n",
      "                \"apcer\": {\n",
      "                    \"bpcer_1\": 93.53846153846153,\n",
      "                    \"bpcer_10\": 47.69230769230769,\n",
      "                    \"bpcer_15\": 31.384615384615383,\n",
      "                    \"bpcer_20\": 26.769230769230766,\n",
      "                    \"bpcer_25\": 21.53846153846154,\n",
      "                    \"bpcer_30\": 18.153846153846153,\n",
      "                    \"bpcer_35\": 16.0,\n",
      "                    \"bpcer_40\": 13.846153846153847,\n",
      "                    \"bpcer_45\": 11.076923076923077,\n",
      "                    \"bpcer_5\": 65.84615384615384,\n",
      "                    \"bpcer_50\": 9.230769230769232\n",
      "                },\n",
      "                \"bpcer\": {\n",
      "                    \"apcer_10\": 6.471359860078707,\n",
      "                    \"apcer_15\": 3.585483165719283,\n",
      "                    \"apcer_20\": 2.27372103191954,\n",
      "                    \"apcer_25\": 1.442938347179712,\n",
      "                    \"apcer_30\": 0.7433318758198526,\n",
      "                    \"apcer_5\": 13.817227809357234\n",
      "                }\n",
      "            },\n",
      "            \"wacer\": 8.66497028370985,\n",
      "            \"weighted_apcer_per_pai\": {\n",
      "                \"print\": 5.153230528986922,\n",
      "                \"replay\": 1.463985945734921\n",
      "            }\n",
      "        },\n",
      "        \"hter_aggregate\": 8.686832985939846,\n",
      "        \"hter_specific\": 8.686832985939846,\n",
      "        \"specific\": {\n",
      "            \"acer\": 55.35636204634893,\n",
      "            \"acer_per_pai\": {\n",
      "                \"makeup_cosmetic\": 49.10636204634893,\n",
      "                \"makeup_impersonation\": 18.689695379682263,\n",
      "                \"makeup_obfuscation\": 55.35636204634893,\n",
      "                \"mask_paper\": 8.873949986047421,\n",
      "                \"mask_rigid\": 32.30080649079337,\n",
      "                \"mask_silicone\": 22.02302871301559,\n",
      "                \"partial_funny_eyes\": 47.664054354041234,\n",
      "                \"partial_lower_half\": 30.356362046348927,\n",
      "                \"partial_paper_glasses\": 43.68969537968226,\n",
      "                \"partial_periocular\": 36.1255928155797,\n",
      "                \"partial_upper_half\": 19.49777618776307,\n",
      "                \"print_high_quality\": 9.718064174008504,\n",
      "                \"print_low_quality\": 14.267253135457839,\n",
      "                \"print_medium_quality\": 8.310907500894384,\n",
      "                \"replay_high_quality\": 6.620850982070742,\n",
      "                \"replay_low_quality\": 5.356362046348929,\n",
      "                \"replay_medium_quality\": 6.548842405495955\n",
      "            },\n",
      "            \"apcer_per_pai\": {\n",
      "                \"makeup_cosmetic\": 87.5,\n",
      "                \"makeup_impersonation\": 26.666666666666668,\n",
      "                \"makeup_obfuscation\": 100.0,\n",
      "                \"mask_paper\": 7.035175879396985,\n",
      "                \"mask_rigid\": 53.888888888888886,\n",
      "                \"mask_silicone\": 33.33333333333333,\n",
      "                \"partial_funny_eyes\": 84.61538461538461,\n",
      "                \"partial_lower_half\": 50.0,\n",
      "                \"partial_paper_glasses\": 76.66666666666667,\n",
      "                \"partial_periocular\": 61.53846153846154,\n",
      "                \"partial_upper_half\": 28.28282828282828,\n",
      "                \"print_high_quality\": 8.72340425531915,\n",
      "                \"print_low_quality\": 17.82178217821782,\n",
      "                \"print_medium_quality\": 5.909090909090909,\n",
      "                \"replay_high_quality\": 2.528977871443625,\n",
      "                \"replay_low_quality\": 0.0,\n",
      "                \"replay_medium_quality\": 2.3849607182940513\n",
      "            },\n",
      "            \"apcer_per_pai_fixing_bpcer\": {\n",
      "                \"makeup_cosmetic\": {\n",
      "                    \"apcer_fixing_bpcer1\": 100.0,\n",
      "                    \"apcer_fixing_bpcer10\": 87.5,\n",
      "                    \"apcer_fixing_bpcer15\": 56.25,\n",
      "                    \"apcer_fixing_bpcer20\": 50.0,\n",
      "                    \"apcer_fixing_bpcer25\": 50.0,\n",
      "                    \"apcer_fixing_bpcer30\": 43.75,\n",
      "                    \"apcer_fixing_bpcer35\": 31.25,\n",
      "                    \"apcer_fixing_bpcer40\": 31.25,\n",
      "                    \"apcer_fixing_bpcer45\": 25.0,\n",
      "                    \"apcer_fixing_bpcer5\": 93.75,\n",
      "                    \"apcer_fixing_bpcer50\": 25.0\n",
      "                },\n",
      "                \"makeup_impersonation\": {\n",
      "                    \"apcer_fixing_bpcer1\": 86.66666666666667,\n",
      "                    \"apcer_fixing_bpcer10\": 26.666666666666668,\n",
      "                    \"apcer_fixing_bpcer15\": 0.0,\n",
      "                    \"apcer_fixing_bpcer20\": 0.0,\n",
      "                    \"apcer_fixing_bpcer25\": 0.0,\n",
      "                    \"apcer_fixing_bpcer30\": 0.0,\n",
      "                    \"apcer_fixing_bpcer35\": 0.0,\n",
      "                    \"apcer_fixing_bpcer40\": 0.0,\n",
      "                    \"apcer_fixing_bpcer45\": 0.0,\n",
      "                    \"apcer_fixing_bpcer5\": 53.333333333333336,\n",
      "                    \"apcer_fixing_bpcer50\": 0.0\n",
      "                },\n",
      "                \"makeup_obfuscation\": {\n",
      "                    \"apcer_fixing_bpcer1\": 100.0,\n",
      "                    \"apcer_fixing_bpcer10\": 90.0,\n",
      "                    \"apcer_fixing_bpcer15\": 90.0,\n",
      "                    \"apcer_fixing_bpcer20\": 80.0,\n",
      "                    \"apcer_fixing_bpcer25\": 70.0,\n",
      "                    \"apcer_fixing_bpcer30\": 70.0,\n",
      "                    \"apcer_fixing_bpcer35\": 60.0,\n",
      "                    \"apcer_fixing_bpcer40\": 60.0,\n",
      "                    \"apcer_fixing_bpcer45\": 60.0,\n",
      "                    \"apcer_fixing_bpcer5\": 100.0,\n",
      "                    \"apcer_fixing_bpcer50\": 60.0\n",
      "                },\n",
      "                \"mask_paper\": {\n",
      "                    \"apcer_fixing_bpcer1\": 39.19597989949749,\n",
      "                    \"apcer_fixing_bpcer10\": 7.788944723618091,\n",
      "                    \"apcer_fixing_bpcer15\": 4.0201005025125625,\n",
      "                    \"apcer_fixing_bpcer20\": 2.0100502512562812,\n",
      "                    \"apcer_fixing_bpcer25\": 1.256281407035176,\n",
      "                    \"apcer_fixing_bpcer30\": 0.5025125628140703,\n",
      "                    \"apcer_fixing_bpcer35\": 0.25125628140703515,\n",
      "                    \"apcer_fixing_bpcer40\": 0.25125628140703515,\n",
      "                    \"apcer_fixing_bpcer45\": 0.25125628140703515,\n",
      "                    \"apcer_fixing_bpcer5\": 16.834170854271356,\n",
      "                    \"apcer_fixing_bpcer50\": 0.25125628140703515\n",
      "                },\n",
      "                \"mask_rigid\": {\n",
      "                    \"apcer_fixing_bpcer1\": 94.44444444444444,\n",
      "                    \"apcer_fixing_bpcer10\": 54.44444444444444,\n",
      "                    \"apcer_fixing_bpcer15\": 44.44444444444444,\n",
      "                    \"apcer_fixing_bpcer20\": 40.0,\n",
      "                    \"apcer_fixing_bpcer25\": 35.55555555555556,\n",
      "                    \"apcer_fixing_bpcer30\": 27.22222222222222,\n",
      "                    \"apcer_fixing_bpcer35\": 17.77777777777778,\n",
      "                    \"apcer_fixing_bpcer40\": 13.333333333333334,\n",
      "                    \"apcer_fixing_bpcer45\": 10.0,\n",
      "                    \"apcer_fixing_bpcer5\": 70.0,\n",
      "                    \"apcer_fixing_bpcer50\": 8.333333333333332\n",
      "                },\n",
      "                \"mask_silicone\": {\n",
      "                    \"apcer_fixing_bpcer1\": 98.24561403508771,\n",
      "                    \"apcer_fixing_bpcer10\": 35.08771929824561,\n",
      "                    \"apcer_fixing_bpcer15\": 14.035087719298245,\n",
      "                    \"apcer_fixing_bpcer20\": 8.771929824561402,\n",
      "                    \"apcer_fixing_bpcer25\": 5.263157894736842,\n",
      "                    \"apcer_fixing_bpcer30\": 3.508771929824561,\n",
      "                    \"apcer_fixing_bpcer35\": 1.7543859649122806,\n",
      "                    \"apcer_fixing_bpcer40\": 1.7543859649122806,\n",
      "                    \"apcer_fixing_bpcer45\": 1.7543859649122806,\n",
      "                    \"apcer_fixing_bpcer5\": 75.43859649122807,\n",
      "                    \"apcer_fixing_bpcer50\": 1.7543859649122806\n",
      "                },\n",
      "                \"partial_funny_eyes\": {\n",
      "                    \"apcer_fixing_bpcer1\": 97.43589743589743,\n",
      "                    \"apcer_fixing_bpcer10\": 84.61538461538461,\n",
      "                    \"apcer_fixing_bpcer15\": 74.35897435897436,\n",
      "                    \"apcer_fixing_bpcer20\": 71.7948717948718,\n",
      "                    \"apcer_fixing_bpcer25\": 66.66666666666666,\n",
      "                    \"apcer_fixing_bpcer30\": 56.41025641025641,\n",
      "                    \"apcer_fixing_bpcer35\": 53.84615384615385,\n",
      "                    \"apcer_fixing_bpcer40\": 46.15384615384615,\n",
      "                    \"apcer_fixing_bpcer45\": 33.33333333333333,\n",
      "                    \"apcer_fixing_bpcer5\": 89.74358974358975,\n",
      "                    \"apcer_fixing_bpcer50\": 25.64102564102564\n",
      "                },\n",
      "                \"partial_lower_half\": {\n",
      "                    \"apcer_fixing_bpcer1\": 75.0,\n",
      "                    \"apcer_fixing_bpcer10\": 50.0,\n",
      "                    \"apcer_fixing_bpcer15\": 25.0,\n",
      "                    \"apcer_fixing_bpcer20\": 0.0,\n",
      "                    \"apcer_fixing_bpcer25\": 0.0,\n",
      "                    \"apcer_fixing_bpcer30\": 0.0,\n",
      "                    \"apcer_fixing_bpcer35\": 0.0,\n",
      "                    \"apcer_fixing_bpcer40\": 0.0,\n",
      "                    \"apcer_fixing_bpcer45\": 0.0,\n",
      "                    \"apcer_fixing_bpcer5\": 75.0,\n",
      "                    \"apcer_fixing_bpcer50\": 0.0\n",
      "                },\n",
      "                \"partial_paper_glasses\": {\n",
      "                    \"apcer_fixing_bpcer1\": 100.0,\n",
      "                    \"apcer_fixing_bpcer10\": 76.66666666666667,\n",
      "                    \"apcer_fixing_bpcer15\": 60.0,\n",
      "                    \"apcer_fixing_bpcer20\": 50.0,\n",
      "                    \"apcer_fixing_bpcer25\": 43.333333333333336,\n",
      "                    \"apcer_fixing_bpcer30\": 36.666666666666664,\n",
      "                    \"apcer_fixing_bpcer35\": 33.33333333333333,\n",
      "                    \"apcer_fixing_bpcer40\": 26.666666666666668,\n",
      "                    \"apcer_fixing_bpcer45\": 26.666666666666668,\n",
      "                    \"apcer_fixing_bpcer5\": 93.33333333333333,\n",
      "                    \"apcer_fixing_bpcer50\": 26.666666666666668\n",
      "                },\n",
      "                \"partial_periocular\": {\n",
      "                    \"apcer_fixing_bpcer1\": 100.0,\n",
      "                    \"apcer_fixing_bpcer10\": 61.53846153846154,\n",
      "                    \"apcer_fixing_bpcer15\": 53.84615384615385,\n",
      "                    \"apcer_fixing_bpcer20\": 53.84615384615385,\n",
      "                    \"apcer_fixing_bpcer25\": 38.46153846153847,\n",
      "                    \"apcer_fixing_bpcer30\": 30.76923076923077,\n",
      "                    \"apcer_fixing_bpcer35\": 23.076923076923077,\n",
      "                    \"apcer_fixing_bpcer40\": 23.076923076923077,\n",
      "                    \"apcer_fixing_bpcer45\": 15.384615384615385,\n",
      "                    \"apcer_fixing_bpcer5\": 76.92307692307693,\n",
      "                    \"apcer_fixing_bpcer50\": 15.384615384615385\n",
      "                },\n",
      "                \"partial_upper_half\": {\n",
      "                    \"apcer_fixing_bpcer1\": 90.9090909090909,\n",
      "                    \"apcer_fixing_bpcer10\": 29.797979797979796,\n",
      "                    \"apcer_fixing_bpcer15\": 14.14141414141414,\n",
      "                    \"apcer_fixing_bpcer20\": 9.090909090909092,\n",
      "                    \"apcer_fixing_bpcer25\": 5.555555555555555,\n",
      "                    \"apcer_fixing_bpcer30\": 3.535353535353535,\n",
      "                    \"apcer_fixing_bpcer35\": 2.0202020202020203,\n",
      "                    \"apcer_fixing_bpcer40\": 1.5151515151515151,\n",
      "                    \"apcer_fixing_bpcer45\": 0.5050505050505051,\n",
      "                    \"apcer_fixing_bpcer5\": 52.02020202020202,\n",
      "                    \"apcer_fixing_bpcer50\": 0.0\n",
      "                },\n",
      "                \"print_high_quality\": {\n",
      "                    \"apcer_fixing_bpcer1\": 49.57446808510638,\n",
      "                    \"apcer_fixing_bpcer10\": 9.25531914893617,\n",
      "                    \"apcer_fixing_bpcer15\": 5.851063829787234,\n",
      "                    \"apcer_fixing_bpcer20\": 2.2340425531914896,\n",
      "                    \"apcer_fixing_bpcer25\": 1.276595744680851,\n",
      "                    \"apcer_fixing_bpcer30\": 0.6382978723404255,\n",
      "                    \"apcer_fixing_bpcer35\": 0.2127659574468085,\n",
      "                    \"apcer_fixing_bpcer40\": 0.10638297872340426,\n",
      "                    \"apcer_fixing_bpcer45\": 0.10638297872340426,\n",
      "                    \"apcer_fixing_bpcer5\": 18.404255319148934,\n",
      "                    \"apcer_fixing_bpcer50\": 0.10638297872340426\n",
      "                },\n",
      "                \"print_low_quality\": {\n",
      "                    \"apcer_fixing_bpcer1\": 62.87128712871287,\n",
      "                    \"apcer_fixing_bpcer10\": 18.316831683168317,\n",
      "                    \"apcer_fixing_bpcer15\": 11.221122112211221,\n",
      "                    \"apcer_fixing_bpcer20\": 8.745874587458747,\n",
      "                    \"apcer_fixing_bpcer25\": 6.765676567656766,\n",
      "                    \"apcer_fixing_bpcer30\": 4.455445544554455,\n",
      "                    \"apcer_fixing_bpcer35\": 3.1353135313531353,\n",
      "                    \"apcer_fixing_bpcer40\": 1.9801980198019802,\n",
      "                    \"apcer_fixing_bpcer45\": 0.9900990099009901,\n",
      "                    \"apcer_fixing_bpcer5\": 31.683168316831683,\n",
      "                    \"apcer_fixing_bpcer50\": 0.825082508250825\n",
      "                },\n",
      "                \"print_medium_quality\": {\n",
      "                    \"apcer_fixing_bpcer1\": 37.72727272727273,\n",
      "                    \"apcer_fixing_bpcer10\": 5.909090909090909,\n",
      "                    \"apcer_fixing_bpcer15\": 1.8181818181818181,\n",
      "                    \"apcer_fixing_bpcer20\": 1.3636363636363635,\n",
      "                    \"apcer_fixing_bpcer25\": 0.9090909090909091,\n",
      "                    \"apcer_fixing_bpcer30\": 0.45454545454545453,\n",
      "                    \"apcer_fixing_bpcer35\": 0.45454545454545453,\n",
      "                    \"apcer_fixing_bpcer40\": 0.45454545454545453,\n",
      "                    \"apcer_fixing_bpcer45\": 0.45454545454545453,\n",
      "                    \"apcer_fixing_bpcer5\": 13.18181818181818,\n",
      "                    \"apcer_fixing_bpcer50\": 0.45454545454545453\n",
      "                },\n",
      "                \"replay_high_quality\": {\n",
      "                    \"apcer_fixing_bpcer1\": 16.148577449947314,\n",
      "                    \"apcer_fixing_bpcer10\": 2.608008429926238,\n",
      "                    \"apcer_fixing_bpcer15\": 1.422550052687039,\n",
      "                    \"apcer_fixing_bpcer20\": 0.8166491043203371,\n",
      "                    \"apcer_fixing_bpcer25\": 0.553213909378293,\n",
      "                    \"apcer_fixing_bpcer30\": 0.42149631190727077,\n",
      "                    \"apcer_fixing_bpcer35\": 0.26343519494204426,\n",
      "                    \"apcer_fixing_bpcer40\": 0.13171759747102213,\n",
      "                    \"apcer_fixing_bpcer45\": 0.052687038988408846,\n",
      "                    \"apcer_fixing_bpcer5\": 5.611169652265543,\n",
      "                    \"apcer_fixing_bpcer50\": 0.052687038988408846\n",
      "                },\n",
      "                \"replay_low_quality\": {\n",
      "                    \"apcer_fixing_bpcer1\": 5.0,\n",
      "                    \"apcer_fixing_bpcer10\": 0.0,\n",
      "                    \"apcer_fixing_bpcer15\": 0.0,\n",
      "                    \"apcer_fixing_bpcer20\": 0.0,\n",
      "                    \"apcer_fixing_bpcer25\": 0.0,\n",
      "                    \"apcer_fixing_bpcer30\": 0.0,\n",
      "                    \"apcer_fixing_bpcer35\": 0.0,\n",
      "                    \"apcer_fixing_bpcer40\": 0.0,\n",
      "                    \"apcer_fixing_bpcer45\": 0.0,\n",
      "                    \"apcer_fixing_bpcer5\": 0.0,\n",
      "                    \"apcer_fixing_bpcer50\": 0.0\n",
      "                },\n",
      "                \"replay_medium_quality\": {\n",
      "                    \"apcer_fixing_bpcer1\": 16.273849607182942,\n",
      "                    \"apcer_fixing_bpcer10\": 2.4971941638608306,\n",
      "                    \"apcer_fixing_bpcer15\": 1.4870931537598204,\n",
      "                    \"apcer_fixing_bpcer20\": 0.6734006734006733,\n",
      "                    \"apcer_fixing_bpcer25\": 0.36475869809203143,\n",
      "                    \"apcer_fixing_bpcer30\": 0.25252525252525254,\n",
      "                    \"apcer_fixing_bpcer35\": 0.22446689113355783,\n",
      "                    \"apcer_fixing_bpcer40\": 0.1964085297418631,\n",
      "                    \"apcer_fixing_bpcer45\": 0.14029180695847362,\n",
      "                    \"apcer_fixing_bpcer5\": 5.134680134680135,\n",
      "                    \"apcer_fixing_bpcer50\": 0.14029180695847362\n",
      "                }\n",
      "            },\n",
      "            \"bpcer\": 10.712724092697858,\n",
      "            \"max_apcer_pai\": \"makeup_obfuscation\",\n",
      "            \"num_samples_per_pai\": {\n",
      "                \"makeup_cosmetic\": 16,\n",
      "                \"makeup_impersonation\": 15,\n",
      "                \"makeup_obfuscation\": 10,\n",
      "                \"mask_paper\": 398,\n",
      "                \"mask_rigid\": 180,\n",
      "                \"mask_silicone\": 57,\n",
      "                \"partial_funny_eyes\": 39,\n",
      "                \"partial_lower_half\": 4,\n",
      "                \"partial_paper_glasses\": 30,\n",
      "                \"partial_periocular\": 13,\n",
      "                \"partial_upper_half\": 198,\n",
      "                \"print_high_quality\": 940,\n",
      "                \"print_low_quality\": 606,\n",
      "                \"print_medium_quality\": 220,\n",
      "                \"replay_high_quality\": 3796,\n",
      "                \"replay_low_quality\": 160,\n",
      "                \"replay_medium_quality\": 3564\n",
      "            },\n",
      "            \"percentage_per_pai\": {\n",
      "                \"makeup_cosmetic\": 0.15615850087839156,\n",
      "                \"makeup_impersonation\": 0.1463985945734921,\n",
      "                \"makeup_obfuscation\": 0.09759906304899472,\n",
      "                \"mask_paper\": 3.8844427093499903,\n",
      "                \"mask_rigid\": 1.7567831348819052,\n",
      "                \"mask_silicone\": 0.5563146593792699,\n",
      "                \"partial_funny_eyes\": 0.3806363458910794,\n",
      "                \"partial_lower_half\": 0.03903962521959789,\n",
      "                \"partial_paper_glasses\": 0.2927971891469842,\n",
      "                \"partial_periocular\": 0.12687878196369315,\n",
      "                \"partial_upper_half\": 1.9324614483700957,\n",
      "                \"print_high_quality\": 9.174311926605505,\n",
      "                \"print_low_quality\": 5.91450322076908,\n",
      "                \"print_medium_quality\": 2.147179387077884,\n",
      "                \"replay_high_quality\": 37.0486043333984,\n",
      "                \"replay_low_quality\": 1.5615850087839156,\n",
      "                \"replay_medium_quality\": 34.78430607066172\n",
      "            },\n",
      "            \"relative_working_points\": {\n",
      "                \"apcer\": {\n",
      "                    \"bpcer_1\": 100.0,\n",
      "                    \"bpcer_10\": 90.0,\n",
      "                    \"bpcer_15\": 90.0,\n",
      "                    \"bpcer_20\": 80.0,\n",
      "                    \"bpcer_25\": 70.0,\n",
      "                    \"bpcer_30\": 70.0,\n",
      "                    \"bpcer_35\": 60.0,\n",
      "                    \"bpcer_40\": 60.0,\n",
      "                    \"bpcer_45\": 60.0,\n",
      "                    \"bpcer_5\": 100.0,\n",
      "                    \"bpcer_50\": 60.0\n",
      "                },\n",
      "                \"bpcer\": {\n",
      "                    \"apcer_10\": 6.471359860078707,\n",
      "                    \"apcer_15\": 3.585483165719283,\n",
      "                    \"apcer_20\": 2.27372103191954,\n",
      "                    \"apcer_25\": 1.442938347179712,\n",
      "                    \"apcer_30\": 0.7433318758198526,\n",
      "                    \"apcer_5\": 13.817227809357234\n",
      "                }\n",
      "            },\n",
      "            \"wacer\": 8.66497028370985,\n",
      "            \"weighted_apcer_per_pai\": {\n",
      "                \"makeup_cosmetic\": 0.1366386882685926,\n",
      "                \"makeup_impersonation\": 0.0390396252195979,\n",
      "                \"makeup_obfuscation\": 0.09759906304899472,\n",
      "                \"mask_paper\": 0.27327737653718526,\n",
      "                \"mask_rigid\": 0.9467109115752489,\n",
      "                \"mask_silicone\": 0.18543821979308997,\n",
      "                \"partial_funny_eyes\": 0.32207690806168254,\n",
      "                \"partial_lower_half\": 0.019519812609798945,\n",
      "                \"partial_paper_glasses\": 0.22447784501268792,\n",
      "                \"partial_periocular\": 0.07807925043919578,\n",
      "                \"partial_upper_half\": 0.5465547530743705,\n",
      "                \"print_high_quality\": 0.8003123170017569,\n",
      "                \"print_low_quality\": 1.0540698809291429,\n",
      "                \"print_medium_quality\": 0.12687878196369315,\n",
      "                \"replay_high_quality\": 0.9369510052703495,\n",
      "                \"replay_low_quality\": 0.0,\n",
      "                \"replay_medium_quality\": 0.829592035916455\n",
      "            }\n",
      "        }\n",
      "    }\n",
      "}\n"
     ]
    }
   ],
   "source": [
    "print(json.dumps(results_auxiliary_grandtest, indent=4, sort_keys=True))"
   ]
  },
  {
   "cell_type": "markdown",
   "metadata": {},
   "source": [
    "You also can use `ResultsProvider.all` to calculate each available protocol."
   ]
  },
  {
   "cell_type": "code",
   "execution_count": 29,
   "metadata": {},
   "outputs": [],
   "source": [
    "results_auxiliary = ResultsProvider.all(Approach.AUXILIARY)"
   ]
  },
  {
   "cell_type": "markdown",
   "metadata": {},
   "source": [
    "Additionally, `ResultsProvider` can calculate results for evenly demographic distributed subsets for the Grandtest Protocol:\n",
    "\n",
    "TODO: Review!!!!!"
   ]
  },
  {
   "cell_type": "code",
   "execution_count": 8,
   "metadata": {},
   "outputs": [
    {
     "ename": "TypeError",
     "evalue": "float() argument must be a string or a number, not 'dict'",
     "output_type": "error",
     "traceback": [
      "\u001b[0;31m---------------------------------------------------------------------------\u001b[0m",
      "\u001b[0;31mTypeError\u001b[0m                                 Traceback (most recent call last)",
      "\u001b[0;32m<ipython-input-8-678e66699340>\u001b[0m in \u001b[0;36m<module>\u001b[0;34m\u001b[0m\n\u001b[0;32m----> 1\u001b[0;31m \u001b[0mresults_auxiliary_grandtest_sex\u001b[0m \u001b[0;34m=\u001b[0m \u001b[0mResultsProvider\u001b[0m\u001b[0;34m.\u001b[0m\u001b[0mget_grandtest_sex\u001b[0m\u001b[0;34m(\u001b[0m\u001b[0mApproach\u001b[0m\u001b[0;34m.\u001b[0m\u001b[0mAUXILIARY\u001b[0m\u001b[0;34m)\u001b[0m\u001b[0;34m\u001b[0m\u001b[0;34m\u001b[0m\u001b[0m\n\u001b[0m",
      "\u001b[0;32m~/Software/phd/gradgpad/gradgpad/reproducible_research/results/results_provider.py\u001b[0m in \u001b[0;36mget_grandtest_sex\u001b[0;34m(approach)\u001b[0m\n\u001b[1;32m    164\u001b[0m             \u001b[0mtest_scores\u001b[0m\u001b[0;34m=\u001b[0m\u001b[0mscores_subsets\u001b[0m\u001b[0;34m.\u001b[0m\u001b[0mget\u001b[0m\u001b[0;34m(\u001b[0m\u001b[0mSubset\u001b[0m\u001b[0;34m.\u001b[0m\u001b[0mTEST\u001b[0m\u001b[0;34m.\u001b[0m\u001b[0mvalue\u001b[0m\u001b[0;34m)\u001b[0m\u001b[0;34m,\u001b[0m\u001b[0;34m\u001b[0m\u001b[0;34m\u001b[0m\u001b[0m\n\u001b[1;32m    165\u001b[0m         )\n\u001b[0;32m--> 166\u001b[0;31m         \u001b[0;32mreturn\u001b[0m \u001b[0mget_analysis_from_metrics\u001b[0m\u001b[0;34m(\u001b[0m\u001b[0mmetrics\u001b[0m\u001b[0;34m)\u001b[0m\u001b[0;34m\u001b[0m\u001b[0;34m\u001b[0m\u001b[0m\n\u001b[0m\u001b[1;32m    167\u001b[0m \u001b[0;34m\u001b[0m\u001b[0m\n\u001b[1;32m    168\u001b[0m     \u001b[0;34m@\u001b[0m\u001b[0mstaticmethod\u001b[0m\u001b[0;34m\u001b[0m\u001b[0;34m\u001b[0m\u001b[0m\n",
      "\u001b[0;32m~/Software/phd/gradgpad/gradgpad/reproducible_research/results/results_provider.py\u001b[0m in \u001b[0;36mget_analysis_from_metrics\u001b[0;34m(metrics)\u001b[0m\n\u001b[1;32m     34\u001b[0m \u001b[0;34m\u001b[0m\u001b[0m\n\u001b[1;32m     35\u001b[0m     analysis = metrics.get_indeepth_analysis(\n\u001b[0;32m---> 36\u001b[0;31m         \u001b[0mbpcer_fixing_working_points\u001b[0m\u001b[0;34m,\u001b[0m \u001b[0mapcer_fixing_working_points\u001b[0m\u001b[0;34m\u001b[0m\u001b[0;34m\u001b[0m\u001b[0m\n\u001b[0m\u001b[1;32m     37\u001b[0m     )\n\u001b[1;32m     38\u001b[0m \u001b[0;34m\u001b[0m\u001b[0m\n",
      "\u001b[0;32m~/Software/phd/gradgpad/gradgpad/evaluation/metrics/metrics.py\u001b[0m in \u001b[0;36mget_indeepth_analysis\u001b[0;34m(self, bpcer_fixing_working_points, apcer_fixing_working_points)\u001b[0m\n\u001b[1;32m    100\u001b[0m         \u001b[0manalysis\u001b[0m \u001b[0;34m=\u001b[0m \u001b[0;34m{\u001b[0m\u001b[0;34m}\u001b[0m\u001b[0;34m\u001b[0m\u001b[0;34m\u001b[0m\u001b[0m\n\u001b[1;32m    101\u001b[0m \u001b[0;34m\u001b[0m\u001b[0m\n\u001b[0;32m--> 102\u001b[0;31m         \u001b[0mscores_devel\u001b[0m \u001b[0;34m=\u001b[0m \u001b[0mself\u001b[0m\u001b[0;34m.\u001b[0m\u001b[0mdevel_scores\u001b[0m\u001b[0;34m.\u001b[0m\u001b[0mget_numpy_scores\u001b[0m\u001b[0;34m(\u001b[0m\u001b[0;34m)\u001b[0m\u001b[0;34m\u001b[0m\u001b[0;34m\u001b[0m\u001b[0m\n\u001b[0m\u001b[1;32m    103\u001b[0m         \u001b[0mlabels_devel\u001b[0m \u001b[0;34m=\u001b[0m \u001b[0mself\u001b[0m\u001b[0;34m.\u001b[0m\u001b[0mdevel_scores\u001b[0m\u001b[0;34m.\u001b[0m\u001b[0mget_numpy_specific_pai_labels\u001b[0m\u001b[0;34m(\u001b[0m\u001b[0;34m)\u001b[0m\u001b[0;34m\u001b[0m\u001b[0;34m\u001b[0m\u001b[0m\n\u001b[1;32m    104\u001b[0m \u001b[0;34m\u001b[0m\u001b[0m\n",
      "\u001b[0;32m~/Software/phd/gradgpad/gradgpad/reproducible_research/scores/scores.py\u001b[0m in \u001b[0;36mget_numpy_scores\u001b[0;34m(self)\u001b[0m\n\u001b[1;32m     51\u001b[0m \u001b[0;34m\u001b[0m\u001b[0m\n\u001b[1;32m     52\u001b[0m     \u001b[0;32mdef\u001b[0m \u001b[0mget_numpy_scores\u001b[0m\u001b[0;34m(\u001b[0m\u001b[0mself\u001b[0m\u001b[0;34m)\u001b[0m\u001b[0;34m:\u001b[0m\u001b[0;34m\u001b[0m\u001b[0;34m\u001b[0m\u001b[0m\n\u001b[0;32m---> 53\u001b[0;31m         \u001b[0;32mreturn\u001b[0m \u001b[0mnp\u001b[0m\u001b[0;34m.\u001b[0m\u001b[0masarray\u001b[0m\u001b[0;34m(\u001b[0m\u001b[0mlist\u001b[0m\u001b[0;34m(\u001b[0m\u001b[0mself\u001b[0m\u001b[0;34m.\u001b[0m\u001b[0mscores\u001b[0m\u001b[0;34m.\u001b[0m\u001b[0mvalues\u001b[0m\u001b[0;34m(\u001b[0m\u001b[0;34m)\u001b[0m\u001b[0;34m)\u001b[0m\u001b[0;34m,\u001b[0m \u001b[0mdtype\u001b[0m\u001b[0;34m=\u001b[0m\u001b[0mnp\u001b[0m\u001b[0;34m.\u001b[0m\u001b[0mfloat32\u001b[0m\u001b[0;34m)\u001b[0m\u001b[0;34m\u001b[0m\u001b[0;34m\u001b[0m\u001b[0m\n\u001b[0m\u001b[1;32m     54\u001b[0m \u001b[0;34m\u001b[0m\u001b[0m\n\u001b[1;32m     55\u001b[0m     \u001b[0;32mdef\u001b[0m \u001b[0mget_numpy_labels\u001b[0m\u001b[0;34m(\u001b[0m\u001b[0mself\u001b[0m\u001b[0;34m)\u001b[0m\u001b[0;34m:\u001b[0m\u001b[0;34m\u001b[0m\u001b[0;34m\u001b[0m\u001b[0m\n",
      "\u001b[0;32m~/miniconda3/envs/gradgpad-notebooks/lib/python3.7/site-packages/numpy/core/_asarray.py\u001b[0m in \u001b[0;36masarray\u001b[0;34m(a, dtype, order)\u001b[0m\n\u001b[1;32m     81\u001b[0m \u001b[0;34m\u001b[0m\u001b[0m\n\u001b[1;32m     82\u001b[0m     \"\"\"\n\u001b[0;32m---> 83\u001b[0;31m     \u001b[0;32mreturn\u001b[0m \u001b[0marray\u001b[0m\u001b[0;34m(\u001b[0m\u001b[0ma\u001b[0m\u001b[0;34m,\u001b[0m \u001b[0mdtype\u001b[0m\u001b[0;34m,\u001b[0m \u001b[0mcopy\u001b[0m\u001b[0;34m=\u001b[0m\u001b[0;32mFalse\u001b[0m\u001b[0;34m,\u001b[0m \u001b[0morder\u001b[0m\u001b[0;34m=\u001b[0m\u001b[0morder\u001b[0m\u001b[0;34m)\u001b[0m\u001b[0;34m\u001b[0m\u001b[0;34m\u001b[0m\u001b[0m\n\u001b[0m\u001b[1;32m     84\u001b[0m \u001b[0;34m\u001b[0m\u001b[0m\n\u001b[1;32m     85\u001b[0m \u001b[0;34m\u001b[0m\u001b[0m\n",
      "\u001b[0;31mTypeError\u001b[0m: float() argument must be a string or a number, not 'dict'"
     ]
    }
   ],
   "source": [
    "results_auxiliary_grandtest_sex = ResultsProvider.get_grandtest_sex(Approach.AUXILIARY)\n",
    "results_auxiliary_grandtest_age = ResultsProvider.get_grandtest_age(Approach.AUXILIARY)\n",
    "results_auxiliary_grandtest_skin_tone = ResultsProvider.get_grandtest_skin_tone(Approach.AUXILIARY)"
   ]
  },
  {
   "cell_type": "code",
   "execution_count": null,
   "metadata": {},
   "outputs": [],
   "source": []
  }
 ],
 "metadata": {
  "kernelspec": {
   "display_name": "Python 3",
   "language": "python",
   "name": "python3"
  },
  "language_info": {
   "codemirror_mode": {
    "name": "ipython",
    "version": 3
   },
   "file_extension": ".py",
   "mimetype": "text/x-python",
   "name": "python",
   "nbconvert_exporter": "python",
   "pygments_lexer": "ipython3",
   "version": "3.7.9"
  }
 },
 "nbformat": 4,
 "nbformat_minor": 4
}

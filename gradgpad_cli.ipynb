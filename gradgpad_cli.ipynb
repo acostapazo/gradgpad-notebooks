{
 "cells": [
  {
   "cell_type": "markdown",
   "metadata": {},
   "source": [
    "# The GRAD-GPAD framework 🗿 \n",
    "    \n",
    "    ➡️ Command Line Interface\n",
    "---\n",
    "\n",
    "\n",
    "## Table of Contents\n",
    "- Installation 💻\n",
    "- Getting Started 👩‍💻\n",
    "  * Reproducible Research\n",
    "  * Show Histogram\n"
   ]
  },
  {
   "cell_type": "markdown",
   "metadata": {},
   "source": [
    "### Installation 💻"
   ]
  },
  {
   "cell_type": "code",
   "execution_count": null,
   "metadata": {},
   "outputs": [],
   "source": [
    "pip install -U gradgpad"
   ]
  },
  {
   "cell_type": "markdown",
   "metadata": {},
   "source": [
    "---\n",
    "### Getting Started 👩‍💻\n",
    "\n",
    "The `grad-gpad` framework has available a Command Line Interface.\n",
    "Please, check use help parameter to obtain updated information about available commands"
   ]
  },
  {
   "cell_type": "code",
   "execution_count": null,
   "metadata": {},
   "outputs": [],
   "source": [
    "!gradgpad -h"
   ]
  },
  {
   "cell_type": "markdown",
   "metadata": {},
   "source": [
    "##### 👩‍💻 Reproducible Research\n",
    "\n",
    "To reproduce the research you only have to select an `<output>` folder an run the following command:"
   ]
  },
  {
   "cell_type": "code",
   "execution_count": null,
   "metadata": {},
   "outputs": [],
   "source": [
    "!gradgpad --reproducible-research -o output"
   ]
  },
  {
   "cell_type": "markdown",
   "metadata": {},
   "source": [
    "##### 👩‍💻 Show Histograms\n",
    "\n",
    "Besides, `gradgpad` CLI can show the hist from score files\n",
    "\n",
    "For instance, if we want to visualize the hist of Quality-based approach, just type:"
   ]
  },
  {
   "cell_type": "code",
   "execution_count": null,
   "metadata": {},
   "outputs": [],
   "source": [
    "!gradgpad --show-hist --score-filename-devel $GRADGPAD_SCORES_PATH/quality_rbf/quality_rbf_grandtest_devel.json --score-filename-test $GRADGPAD_SCORES_PATH/quality_rbf/quality_rbf_grandtest_test.json"
   ]
  },
  {
   "cell_type": "markdown",
   "metadata": {},
   "source": [
    "Or for Auxiliary-based face-PAD approach"
   ]
  },
  {
   "cell_type": "code",
   "execution_count": null,
   "metadata": {},
   "outputs": [],
   "source": [
    "!gradgpad --show-hist --score-filename-devel $GRADGPAD_SCORES_PATH/auxiliary/auxiliary_grandtest_devel.json --score-filename-test $GRADGPAD_SCORES_PATH/auxiliary/auxiliary_grandtest_test.json"
   ]
  },
  {
   "cell_type": "code",
   "execution_count": null,
   "metadata": {},
   "outputs": [],
   "source": []
  }
 ],
 "metadata": {
  "kernelspec": {
   "display_name": "Python 3",
   "language": "python",
   "name": "python3"
  },
  "language_info": {
   "codemirror_mode": {
    "name": "ipython",
    "version": 3
   },
   "file_extension": ".py",
   "mimetype": "text/x-python",
   "name": "python",
   "nbconvert_exporter": "python",
   "pygments_lexer": "ipython3",
   "version": "3.7.9"
  }
 },
 "nbformat": 4,
 "nbformat_minor": 4
}
